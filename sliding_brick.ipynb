{
 "cells": [
  {
   "cell_type": "code",
   "execution_count": null,
   "metadata": {},
   "outputs": [],
   "source": [
    "using Polyhedra\n",
    "using DrakeVisualizer\n",
    "DrakeVisualizer.any_open_windows() || DrakeVisualizer.new_window()\n",
    "using RigidBodyDynamics\n",
    "using StaticArrays\n",
    "using RigidBodyTreeInspector\n",
    "using JuMP\n",
    "using Gurobi"
   ]
  },
  {
   "cell_type": "code",
   "execution_count": null,
   "metadata": {
    "collapsed": true
   },
   "outputs": [],
   "source": [
    "import MechanismComplementarity\n"
   ]
  },
  {
   "cell_type": "code",
   "execution_count": null,
   "metadata": {},
   "outputs": [],
   "source": [
    "reload(\"MechanismComplementarity\")\n",
    "mc = MechanismComplementarity"
   ]
  },
  {
   "cell_type": "code",
   "execution_count": null,
   "metadata": {},
   "outputs": [],
   "source": [
    "world = RigidBody{Float64}(\"world\")\n",
    "brick = Mechanism(world; gravity=SVector(0, 0, -9.81))\n",
    "\n",
    "frame = CartesianFrame3D(\"dummy\")\n",
    "inertia = SpatialInertia(frame, 0 * eye(3), zeros(3), 0.0)\n",
    "dummy = RigidBody(inertia)\n",
    "base_x = Joint(\"base_x\", Prismatic([1., 0, 0]))\n",
    "attach!(brick, world, base_x, eye(Transform3D, frame_before(base_x), default_frame(world)), dummy)\n",
    "\n",
    "frame = CartesianFrame3D(\"core\")\n",
    "inertia = SpatialInertia(frame, 0.1 * eye(3), zeros(3), 1.0)\n",
    "core = RigidBody(inertia)\n",
    "base_z = Joint(\"base_z\", Prismatic([0., 0, 1]))\n",
    "attach!(brick, dummy, base_z, eye(Transform3D, frame_before(base_z), default_frame(dummy)), core)\n",
    "\n",
    "geoms = Dict(default_frame(core) => [HyperRectangle(Vec(-0.1, -0.1, -0.1), Vec(0.2, 0.2, 0.2))])\n",
    "\n"
   ]
  },
  {
   "cell_type": "code",
   "execution_count": null,
   "metadata": {},
   "outputs": [],
   "source": [
    "env = mc.Environment(\n",
    "    Dict(core => mc.ContactEnvironment(\n",
    "            [Point3D(default_frame(core), SVector(0, 0, -0.1))],\n",
    "            [\n",
    "                mc.Obstacle(\n",
    "                    default_frame(world),\n",
    "                    SimpleHRepresentation{3, Float64}([0 0 1], [0]),\n",
    "                    HalfSpace{3, Float64}([0, 0, 1], 0),\n",
    "                    0.5\n",
    "                ),\n",
    "            ],\n",
    "            [\n",
    "                mc.FreeRegion(\n",
    "                    default_frame(world),\n",
    "                    SimpleHRepresentation{3, Float64}(\n",
    "                        [0 0 -1],\n",
    "                        [0])\n",
    "                )\n",
    "            ])\n",
    "        )\n",
    ")\n",
    "\n",
    "limits = Dict{Joint, SimpleHRepresentation}()"
   ]
  },
  {
   "cell_type": "code",
   "execution_count": null,
   "metadata": {},
   "outputs": [],
   "source": [
    "vis = Visualizer()[:brick]\n",
    "setgeometry!(vis, brick, geoms)"
   ]
  },
  {
   "cell_type": "code",
   "execution_count": null,
   "metadata": {},
   "outputs": [],
   "source": [
    "inspect(brick, vis)"
   ]
  },
  {
   "cell_type": "code",
   "execution_count": null,
   "metadata": {},
   "outputs": [],
   "source": [
    "x0 = MechanismState(brick, [0., 0.5], [1.5, 0.0])\n",
    "\n",
    "controller = x -> zeros(num_velocities(x))\n",
    "\n",
    "Δt = 0.05\n",
    "results = mc.simulate(x0, controller, limits, env, Δt, 30, GurobiSolver(OutputFlag=0));"
   ]
  },
  {
   "cell_type": "code",
   "execution_count": null,
   "metadata": {},
   "outputs": [],
   "source": [
    "for r in results\n",
    "    settransform!(vis, r.state)\n",
    "    sleep(Δt)\n",
    "end"
   ]
  },
  {
   "cell_type": "code",
   "execution_count": null,
   "metadata": {
    "collapsed": true
   },
   "outputs": [],
   "source": []
  }
 ],
 "metadata": {
  "kernelspec": {
   "display_name": "Julia 0.6.0",
   "language": "julia",
   "name": "julia-0.6"
  },
  "language_info": {
   "file_extension": ".jl",
   "mimetype": "application/julia",
   "name": "julia",
   "version": "0.6.0"
  }
 },
 "nbformat": 4,
 "nbformat_minor": 2
}
