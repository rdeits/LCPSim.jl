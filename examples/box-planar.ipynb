{
 "cells": [
  {
   "cell_type": "code",
   "execution_count": null,
   "metadata": {
    "collapsed": true
   },
   "outputs": [],
   "source": [
    "using Revise"
   ]
  },
  {
   "cell_type": "code",
   "execution_count": null,
   "metadata": {},
   "outputs": [],
   "source": [
    "using Polyhedra\n",
    "using CDDLib\n",
    "using DrakeVisualizer\n",
    "DrakeVisualizer.any_open_windows() || DrakeVisualizer.new_window()\n",
    "using RigidBodyDynamics\n",
    "using RigidBodyDynamics: Bounds\n",
    "using StaticArrays\n",
    "using RigidBodyTreeInspector\n",
    "using MechanismComplementarity\n",
    "using JuMP, Gurobi"
   ]
  },
  {
   "cell_type": "code",
   "execution_count": null,
   "metadata": {},
   "outputs": [],
   "source": [
    "function DrakeVisualizer.addgeometry!(vis::Visualizer, obs::Obstacle, boundary::HRepresentation=SimpleHRepresentation(vcat(eye(3), -eye(3)), vcat([1., 0.5, 2.0], -[-1., -0.5, -0.1])))\n",
    "    p = intersect(boundary, obs.interior)\n",
    "    addgeometry!(vis, CDDPolyhedron{3, Float64}(p))\n",
    "end"
   ]
  },
  {
   "cell_type": "code",
   "execution_count": null,
   "metadata": {},
   "outputs": [],
   "source": [
    "mechanism = parse_urdf(Float64, \"box.urdf\")\n",
    "core = findbody(mechanism, \"core\")\n",
    "floating_base = joint_to_parent(core, mechanism)\n",
    "set_joint_type!(floating_base, Planar([1., 0, 0], [0., 0, 1.]))\n",
    "floating_base.position_bounds = [Bounds(-5., 5), Bounds(0., 3), Bounds(-2π, 2π)]\n",
    "floating_base.velocity_bounds = [Bounds(-10., 10), Bounds(-10., 10), Bounds(-2π, 2π)]\n",
    "floating_base.effort_bounds .= Bounds(0., 0)"
   ]
  },
  {
   "cell_type": "code",
   "execution_count": null,
   "metadata": {},
   "outputs": [],
   "source": [
    "world = root_body(mechanism)\n",
    "\n",
    "basevis = Visualizer()[:world]\n",
    "delete!(basevis)\n",
    "vis = basevis[:planar]\n",
    "setgeometry!(vis, mechanism, parse_urdf(\"box.urdf\", mechanism))\n",
    "\n",
    "floor = planar_obstacle(default_frame(world), [0, 0, 1.], [0, 0, 0.])\n",
    "free_space = space_between([floor])\n",
    "\n",
    "addgeometry!(basevis[:environment], floor)\n",
    "\n",
    "core = findbody(mechanism, \"core\")\n",
    "\n",
    "env = Environment(\n",
    "    Dict(core => ContactEnvironment(\n",
    "                [\n",
    "                Point3D(default_frame(core), SVector(0.1, 0, 0.2)),\n",
    "                Point3D(default_frame(core), SVector(-0.1, 0, 0.2)),\n",
    "                Point3D(default_frame(core), SVector(0.1, 0, -0.2)),\n",
    "                Point3D(default_frame(core), SVector(-0.1, 0, -0.2)),\n",
    "                 ],\n",
    "                [floor],\n",
    "                [free_space])))"
   ]
  },
  {
   "cell_type": "code",
   "execution_count": null,
   "metadata": {},
   "outputs": [],
   "source": [
    "x0 = MechanismState{Float64}(mechanism)\n",
    "set_velocity!(x0, zeros(num_velocities(x0)))\n",
    "set_configuration!(x0, floating_base, [-1, 0.3, -0.3])\n",
    "configuration_derivative_to_velocity!(velocity(x0, floating_base), floating_base, configuration(x0, floating_base), [3., 0, 0])\n",
    "\n",
    "settransform!(vis, x0)\n",
    "\n",
    "controller = x -> begin\n",
    "    zeros(num_velocities(x))\n",
    "end\n",
    "\n",
    "Δt = 0.05\n",
    "\n",
    "results = MechanismComplementarity.simulate(x0, controller, env, Δt, 100, GurobiSolver(OutputFlag=0));"
   ]
  },
  {
   "cell_type": "code",
   "execution_count": null,
   "metadata": {
    "collapsed": true
   },
   "outputs": [],
   "source": [
    "for r in results\n",
    "    set_configuration!(x0, configuration(r.state))\n",
    "    settransform!(vis, x0)\n",
    "    sleep(Δt)\n",
    "end"
   ]
  },
  {
   "cell_type": "code",
   "execution_count": null,
   "metadata": {},
   "outputs": [],
   "source": [
    "urdf_mech = parse_urdf(Float64, \"box.urdf\")\n",
    "mechanism2, base2 = planar_revolute_base()\n",
    "attach!(mechanism2, base2, urdf_mech)\n",
    "world2 = root_body(mechanism2)\n",
    "\n",
    "vis2 = basevis[:dummy]\n",
    "setgeometry!(vis2, mechanism2, parse_urdf(\"box.urdf\", mechanism2))\n",
    "\n",
    "core2 = findbody(mechanism2, \"core\")\n",
    "floor2 = planar_obstacle(default_frame(world2), [0, 0, 1.], [0, 0, 0.])\n",
    "free_space2 = space_between([floor2])\n",
    "env2 = Environment(\n",
    "    Dict(core2 => ContactEnvironment(\n",
    "                [\n",
    "                Point3D(default_frame(core2), SVector(0.1, 0, 0.2)),\n",
    "                Point3D(default_frame(core2), SVector(-0.1, 0, 0.2)),\n",
    "                Point3D(default_frame(core2), SVector(0.1, 0, -0.2)),\n",
    "                Point3D(default_frame(core2), SVector(-0.1, 0, -0.2)),\n",
    "                 ],\n",
    "                [floor2],\n",
    "                [free_space2])))\n",
    "\n",
    "x02 = MechanismState{Float64}(mechanism2)\n",
    "set_velocity!(x02, zeros(num_velocities(x02)))\n",
    "set_configuration!(x02, findjoint(mechanism2, \"base_x\"), [-1])\n",
    "set_configuration!(x02, findjoint(mechanism2, \"base_z\"), [0.3])\n",
    "set_configuration!(x02, findjoint(mechanism2, \"base_rotation\"), [0.3])\n",
    "set_velocity!(x02, findjoint(mechanism2, \"base_x\"), [3])\n",
    "\n",
    "settransform!(vis2, x02)\n",
    "\n",
    "controller2 = x -> begin\n",
    "    zeros(num_velocities(x))\n",
    "end\n",
    "\n",
    "Δt = 0.05\n",
    "\n",
    "@time results2 = MechanismComplementarity.simulate(x02, controller2, env2, Δt, 100, GurobiSolver(OutputFlag=0));"
   ]
  },
  {
   "cell_type": "code",
   "execution_count": null,
   "metadata": {},
   "outputs": [],
   "source": [
    "for (r1, r2) in zip(results, results2)\n",
    "    set_configuration!(x0, configuration(r1.state))\n",
    "    settransform!(vis, x0)\n",
    "    set_configuration!(x02, configuration(r2.state))\n",
    "    settransform!(vis2, x02)\n",
    "    sleep(Δt)\n",
    "end"
   ]
  },
  {
   "cell_type": "code",
   "execution_count": null,
   "metadata": {
    "collapsed": true
   },
   "outputs": [],
   "source": []
  }
 ],
 "metadata": {
  "kernelspec": {
   "display_name": "Julia 0.6.0",
   "language": "julia",
   "name": "julia-0.6"
  },
  "language_info": {
   "file_extension": ".jl",
   "mimetype": "application/julia",
   "name": "julia",
   "version": "0.6.0"
  }
 },
 "nbformat": 4,
 "nbformat_minor": 2
}
