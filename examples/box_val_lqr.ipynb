{
 "cells": [
  {
   "cell_type": "code",
   "execution_count": null,
   "metadata": {
    "collapsed": true
   },
   "outputs": [],
   "source": [
    "using Revise"
   ]
  },
  {
   "cell_type": "code",
   "execution_count": null,
   "metadata": {},
   "outputs": [],
   "source": [
    "using DrakeVisualizer\n",
    "DrakeVisualizer.any_open_windows() || DrakeVisualizer.new_window()\n",
    "using RigidBodyDynamics\n",
    "using RigidBodyDynamics: position_bounds, velocity_bounds, effort_bounds, Bounds\n",
    "using StaticArrays\n",
    "using RigidBodyTreeInspector\n",
    "using LCPSim\n",
    "using JuMP, Gurobi"
   ]
  },
  {
   "cell_type": "code",
   "execution_count": null,
   "metadata": {},
   "outputs": [],
   "source": [
    "urdf_mech = parse_urdf(Float64, \"box_valkyrie.urdf\")\n",
    "mechanism, base = planar_revolute_base()\n",
    "attach!(mechanism, base, urdf_mech)\n",
    "world = root_body(mechanism)\n",
    "\n",
    "basevis = Visualizer()[:boxval]\n",
    "delete!(basevis)\n",
    "vis = basevis[:robot]\n",
    "setgeometry!(vis, mechanism, parse_urdf(\"box_valkyrie.urdf\", mechanism))\n",
    "\n",
    "floor = planar_obstacle(default_frame(world), [0, 0, 1.], [0, 0, 0.], 1.)\n",
    "\n",
    "contact_limbs = findbody.(mechanism, [\"rh\", \"lh\", \"rf\", \"lf\"])\n",
    "hands = findbody.(mechanism, [\"rh\", \"lh\"])\n",
    "feet = findbody.(mechanism, [\"rf\", \"lf\"])\n",
    "\n",
    "env = Environment(\n",
    "    Dict(vcat(\n",
    "            [body => ContactEnvironment(\n",
    "                [Point3D(default_frame(body), SVector(0., 0, 0))],\n",
    "                [floor])\n",
    "                for body in feet],\n",
    "            )));\n",
    "\n",
    "function nominal_input(x0::MechanismState)\n",
    "    u_nominal = clamp.(inverse_dynamics(x0, zeros(num_velocities(x0))), LCPSim.all_effort_bounds(x0.mechanism))\n",
    "    feet = findbody.(x0.mechanism, [\"rf\", \"lf\"])\n",
    "    weight = mass(x0.mechanism) * mechanism.gravitational_acceleration.v[3]\n",
    "    u_nominal[parentindexes(velocity(x0, findjoint(x0.mechanism, \"core_to_rf_z\")))...] += weight / 2\n",
    "    u_nominal[parentindexes(velocity(x0, findjoint(x0.mechanism, \"core_to_lf_z\")))...] += weight / 2\n",
    "    u_nominal\n",
    "end"
   ]
  },
  {
   "cell_type": "code",
   "execution_count": null,
   "metadata": {},
   "outputs": [],
   "source": [
    "x0 = MechanismState{Float64}(mechanism)\n",
    "set_velocity!(x0, zeros(num_velocities(x0)))\n",
    "set_configuration!(x0, findjoint(mechanism, \"base_x\"), [0.75])\n",
    "set_configuration!(x0, findjoint(mechanism, \"base_z\"), [.9])\n",
    "set_configuration!(x0, findjoint(mechanism, \"core_to_rh_x\"), [0.6])\n",
    "set_configuration!(x0, findjoint(mechanism, \"core_to_rh_z\"), [0.0])\n",
    "set_configuration!(x0, findjoint(mechanism, \"core_to_lh_x\"), [0.6])\n",
    "set_configuration!(x0, findjoint(mechanism, \"core_to_lh_z\"), [0.0])\n",
    "set_configuration!(x0, findjoint(mechanism, \"core_to_rf_x\"), [0.2])\n",
    "set_configuration!(x0, findjoint(mechanism, \"core_to_rf_z\"), [-.9])\n",
    "set_configuration!(x0, findjoint(mechanism, \"core_to_lf_x\"), [0.2])\n",
    "set_configuration!(x0, findjoint(mechanism, \"core_to_lf_z\"), [-.9])\n",
    "q0 = copy(configuration(x0))\n",
    "v0 = copy(velocity(x0))\n",
    "u0 = nominal_input(x0)\n",
    "\n",
    "contacts = [Point3D(default_frame(body), SVector(0., 0, 0)) for body in feet]\n",
    "qq = [100, 0.1, 1, fill(0.1, num_positions(x0) - 3)...]\n",
    "Q = diagm(vcat(qq, fill(0.1, num_velocities(x0))))\n",
    "R = 0.001 * eye(num_velocities(x0))\n",
    "K = LCPSim.ContactLQR.contact_lqr(x0, u0, Q, R, contacts)\n",
    "\n",
    "controller = x -> begin\n",
    "    -K * (state_vector(x) - vcat(q0, v0)) .+ u0\n",
    "#     u0\n",
    "end\n",
    "Δt = 0.01\n",
    "\n",
    "set_velocity!(x0, findjoint(mechanism, \"base_x\"), [-2])\n",
    "\n",
    "results = LCPSim.simulate(x0, controller, env, Δt, 500, GurobiSolver(OutputFlag=0));\n"
   ]
  },
  {
   "cell_type": "code",
   "execution_count": null,
   "metadata": {},
   "outputs": [],
   "source": [
    "\n",
    "set_configuration!(x0, q0)\n",
    "settransform!(vis, x0)\n",
    "for r in results\n",
    "    sleep(Δt)\n",
    "    set_configuration!(x0, configuration(r.state))\n",
    "    settransform!(vis, x0)\n",
    "    for (body, contacts) in r.contacts\n",
    "        for (i, contact) in enumerate(contacts)\n",
    "            f = LCPSim.contact_force(contact)\n",
    "            p = transform_to_root(x0, contact.point.frame) * contact.point\n",
    "            v = vis[:forces][Symbol(body)][Symbol(i)]\n",
    "            setgeometry!(v, DrakeVisualizer.PolyLine([p.v, (p + 0.1*f).v]; end_head=DrakeVisualizer.ArrowHead()))\n",
    "        end\n",
    "    end\n",
    "end"
   ]
  },
  {
   "cell_type": "code",
   "execution_count": null,
   "metadata": {
    "collapsed": true
   },
   "outputs": [],
   "source": []
  }
 ],
 "metadata": {
  "kernelspec": {
   "display_name": "Julia 0.6.0",
   "language": "julia",
   "name": "julia-0.6"
  },
  "language_info": {
   "file_extension": ".jl",
   "mimetype": "application/julia",
   "name": "julia",
   "version": "0.6.0"
  }
 },
 "nbformat": 4,
 "nbformat_minor": 2
}
