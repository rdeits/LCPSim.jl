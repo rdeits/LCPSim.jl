{
 "cells": [
  {
   "cell_type": "code",
   "execution_count": null,
   "metadata": {
    "collapsed": true
   },
   "outputs": [],
   "source": [
    "using Revise"
   ]
  },
  {
   "cell_type": "code",
   "execution_count": null,
   "metadata": {},
   "outputs": [],
   "source": [
    "using DrakeVisualizer\n",
    "DrakeVisualizer.any_open_windows() || DrakeVisualizer.new_window()\n",
    "using RigidBodyDynamics\n",
    "using StaticArrays\n",
    "using RigidBodyTreeInspector\n",
    "using LCPSim\n",
    "using JuMP, Gurobi"
   ]
  },
  {
   "cell_type": "code",
   "execution_count": null,
   "metadata": {
    "collapsed": true
   },
   "outputs": [],
   "source": [
    "urdf_mech = parse_urdf(Float64, \"box_valkyrie.urdf\")\n",
    "mechanism, base = planar_revolute_base()\n",
    "attach!(mechanism, base, urdf_mech)\n",
    "world = root_body(mechanism)\n",
    "\n",
    "basevis = Visualizer()[:boxval]\n",
    "delete!(basevis)\n",
    "vis = basevis[:robot]\n",
    "setgeometry!(vis, mechanism, parse_urdf(\"box_valkyrie.urdf\", mechanism))\n",
    "\n",
    "floor = planar_obstacle(default_frame(world), [0, 0, 1.], [0, 0, 0.], 1.)\n",
    "\n",
    "contact_limbs = findbody.(mechanism, [\"rh\", \"lh\", \"rf\", \"lf\"])\n",
    "hands = findbody.(mechanism, [\"rh\", \"lh\"])\n",
    "feet = findbody.(mechanism, [\"rf\", \"lf\"])\n",
    "\n",
    "env = Environment(\n",
    "    Dict(vcat(\n",
    "            [body => ContactEnvironment(\n",
    "                [Point3D(default_frame(body), SVector(0., 0, 0))],\n",
    "                [floor])\n",
    "                for body in feet],\n",
    "            )));"
   ]
  },
  {
   "cell_type": "code",
   "execution_count": null,
   "metadata": {
    "collapsed": true
   },
   "outputs": [],
   "source": [
    "function dynamics(mechanism, x, u)\n",
    "    state = MechanismState{eltype(x)}(mechanism)\n",
    "    result = DynamicsResult{eltype(x)}(mechanism)\n",
    "    ẋ = zeros(eltype(x), 4)\n",
    "    dynamics!(ẋ, result, state, x, u)\n",
    "    ẋ\n",
    "end"
   ]
  },
  {
   "cell_type": "code",
   "execution_count": null,
   "metadata": {},
   "outputs": [],
   "source": [
    "using PyCall"
   ]
  },
  {
   "cell_type": "code",
   "execution_count": null,
   "metadata": {},
   "outputs": [],
   "source": [
    "py\"\"\"\n",
    "import numpy as np\n",
    "import scipy.linalg\n",
    "\n",
    "from copy import copy\n",
    "\n",
    "def nullspace_basis(A):\n",
    "    V = np.linalg.svd(A)[2].T\n",
    "    rank = np.linalg.matrix_rank(A)\n",
    "    Z = V[:,rank:]\n",
    "    return clean_matrix(Z)\n",
    "\n",
    "def rangespace_basis(A):\n",
    "    Z = nullspace_basis(A.T)\n",
    "    return nullspace_basis(Z.T)\n",
    "\n",
    "def linearly_independent_rows(A, tol=1.e-6):\n",
    "    R = linalg.qr(A.T)[1]\n",
    "    R_diag = np.abs(np.diag(R))\n",
    "    return list(np.where(R_diag > tol)[0])\n",
    "\n",
    "def clean_matrix(M, tol=1.e-9):\n",
    "    M_clean = copy(M)\n",
    "    for i in range(M.shape[0]):\n",
    "        for j in range(M.shape[1]):\n",
    "            if np.abs(M[i,j]) < tol:\n",
    "                M_clean[i,j] = 0.\n",
    "    return M_clean\n",
    "\n",
    "def dare(A, B, Q, R):\n",
    "    # cost to go\n",
    "    P = scipy.linalg.solve_discrete_are(A, B, Q, R)\n",
    "    # optimal gain\n",
    "    K = - scipy.linalg.inv(B.T.dot(P).dot(B)+R).dot(B.T).dot(P).dot(A)\n",
    "    return P, K\n",
    "\n",
    "def canonical_reachability_decomposition(A, B):\n",
    "    n = A.shape[0]\n",
    "    R = np.hstack([np.linalg.matrix_power(A, i).dot(B) for i in range(n)])\n",
    "    n_R = np.linalg.matrix_rank(R)\n",
    "    T_R = rangespace_basis(R)\n",
    "    T_N = nullspace_basis(R.T)\n",
    "    T = np.hstack((T_R, T_N))\n",
    "    T_inv = np.linalg.inv(T)\n",
    "    A_canonical = T_inv.dot(A).dot(T)\n",
    "    B_canonical = T_inv.dot(B)\n",
    "    A_RR = A_canonical[:n_R,:n_R]\n",
    "    A_RN = A_canonical[:n_R,n_R:]\n",
    "    A_NR = A_canonical[n_R:,:n_R]\n",
    "    A_NN = A_canonical[n_R:,n_R:]\n",
    "    B_R = B_canonical[:n_R,:]\n",
    "    B_N = B_canonical[n_R:,:]\n",
    "    return {\n",
    "    'n_R': n_R,\n",
    "    'T': T, 'T_R': T_R, 'T_N':T_N,\n",
    "    'A': A_canonical, 'A_RR': A_RR, 'A_RN': A_RN, 'A_NR': A_NR, 'A_NN': A_NN,\n",
    "    'B': B_canonical, 'B_R': B_R, 'B_N': B_N\n",
    "    }\n",
    "\n",
    "def reachable_lqr(A, B, Q, R):\n",
    "    crd = canonical_reachability_decomposition(\n",
    "        A,\n",
    "        B\n",
    "        )\n",
    "    n_R, T, T_R, T_N, A_RR, B_R = [crd['n_R'], crd['T'], crd['T_R'], crd['T_N'], crd['A_RR'], crd['B_R']]\n",
    "    Q_R = T_R.T.dot(Q).dot(T_R)\n",
    "    P_R, K_R = dare(A_RR, B_R, Q_R, R)\n",
    "    print A_RR\n",
    "    print B_R\n",
    "    print Q_R\n",
    "    print R\n",
    "    print K_R\n",
    "    T_inv = np.linalg.inv(T)\n",
    "    T_inv_R = T_inv[:n_R,:]\n",
    "    P = T_inv_R.T.dot(P_R).dot(T_inv_R)\n",
    "    K = K_R.dot(T_inv_R)\n",
    "    return K, P\n",
    "\n",
    "def zero_order_hold(A, B, c, h):\n",
    "\n",
    "    # system dimensions\n",
    "    n_x = np.shape(A)[0]\n",
    "    n_u = np.shape(B)[1]\n",
    "\n",
    "    # zero order hold\n",
    "    mat_c = np.zeros((n_x+n_u+1, n_x+n_u+1))\n",
    "    mat_c[0:n_x,:] = np.hstack((A, B, c))\n",
    "    mat_d = scipy.linalg.expm(mat_c*h)\n",
    "\n",
    "    # discrete time dynamics\n",
    "    A_d = mat_d[0:n_x, 0:n_x]\n",
    "    B_d = mat_d[0:n_x, n_x:n_x+n_u]\n",
    "    c_d = mat_d[0:n_x, n_x+n_u:n_x+n_u+1]\n",
    "\n",
    "    return A_d, B_d, c_d\n",
    "\n",
    "def continuous_reachable_lqr(A, B, Q, R, h):\n",
    "    A_d, B_d, c_d = zero_order_hold(A, B, np.zeros((A.shape[0], 1)), h)\n",
    "    return reachable_lqr(A_d, B_d, Q, R)\n",
    "\"\"\"\n",
    "\n",
    "const reachable_lqr = py\"reachable_lqr\"\n",
    "const continuous_reachable_lqr = py\"continuous_reachable_lqr\""
   ]
  },
  {
   "cell_type": "code",
   "execution_count": null,
   "metadata": {
    "collapsed": true
   },
   "outputs": [],
   "source": [
    "using Plots\n",
    "using ForwardDiff"
   ]
  },
  {
   "cell_type": "markdown",
   "metadata": {},
   "source": [
    "Model is a single-leg hopper, with the foot on the ground. Inputs are the force on the leg, with a positive force acting downward"
   ]
  },
  {
   "cell_type": "code",
   "execution_count": null,
   "metadata": {
    "collapsed": true
   },
   "outputs": [],
   "source": [
    "using ForwardDiff"
   ]
  },
  {
   "cell_type": "code",
   "execution_count": null,
   "metadata": {},
   "outputs": [],
   "source": [
    "x_fp = [1., -1, 0, 0]\n",
    "u_fp = [-9.81]\n",
    "\n",
    "function dynamics(x, u)\n",
    "    q = x[1:2]\n",
    "    v = x[3:4]\n",
    "    # assume the foot is stuck to the ground, then we have:\n",
    "    v̇ = zeros(promote_type(eltype(x), eltype(u)), 2)\n",
    "    v̇[1] = -u[1] - 9.81\n",
    "    v̇[2] = -v̇[1]\n",
    "    vcat(v, v̇)\n",
    "end"
   ]
  },
  {
   "cell_type": "code",
   "execution_count": null,
   "metadata": {},
   "outputs": [],
   "source": [
    "A = ForwardDiff.jacobian(x -> dynamics(x, u_fp), x_fp)\n",
    "B = ForwardDiff.jacobian(u -> dynamics(x_fp, u), u_fp)\n",
    "Q = diagm([100, 10, 1, 1])\n",
    "R = 0.1 * eye(1)\n",
    "@show A B Q R"
   ]
  },
  {
   "cell_type": "code",
   "execution_count": null,
   "metadata": {},
   "outputs": [],
   "source": [
    "dynamics(x_fp, u_fp)"
   ]
  },
  {
   "cell_type": "code",
   "execution_count": null,
   "metadata": {},
   "outputs": [],
   "source": [
    "Jc = [1. 1]\n",
    "Jcdot = [0. 0]"
   ]
  },
  {
   "cell_type": "code",
   "execution_count": null,
   "metadata": {},
   "outputs": [],
   "source": [
    "N = nullspace([Jc zeros(1, 2); Jcdot Jc])"
   ]
  },
  {
   "cell_type": "code",
   "execution_count": null,
   "metadata": {},
   "outputs": [],
   "source": [
    "Am = N' * A * N\n",
    "Bm = N' * B\n",
    "Rm = R\n",
    "Qm = N' * Q * N"
   ]
  },
  {
   "cell_type": "code",
   "execution_count": null,
   "metadata": {
    "collapsed": true
   },
   "outputs": [],
   "source": [
    "using ControlSystems: lqr"
   ]
  },
  {
   "cell_type": "code",
   "execution_count": null,
   "metadata": {},
   "outputs": [],
   "source": [
    "Km = lqr(Am, Bm, Qm, Rm)"
   ]
  },
  {
   "cell_type": "code",
   "execution_count": null,
   "metadata": {},
   "outputs": [],
   "source": [
    "K = Km * N'"
   ]
  },
  {
   "cell_type": "code",
   "execution_count": null,
   "metadata": {},
   "outputs": [],
   "source": [
    "x = [1.5, -1, 0, 0]\n",
    "xs = [x]\n",
    "Δt = 0.001\n",
    "for i in 1:1000\n",
    "    u = -K * (xs[end] .- x_fp)\n",
    "    ẋ = dynamics(xs[end], u)\n",
    "    push!(xs, xs[end] .+ Δt .* ẋ)\n",
    "end"
   ]
  },
  {
   "cell_type": "code",
   "execution_count": null,
   "metadata": {},
   "outputs": [],
   "source": [
    "plot([x[1] for x in xs], ylim=(0, 2))"
   ]
  },
  {
   "cell_type": "code",
   "execution_count": null,
   "metadata": {
    "collapsed": true
   },
   "outputs": [],
   "source": []
  }
 ],
 "metadata": {
  "kernelspec": {
   "display_name": "Julia 0.6.0",
   "language": "julia",
   "name": "julia-0.6"
  },
  "language_info": {
   "file_extension": ".jl",
   "mimetype": "application/julia",
   "name": "julia",
   "version": "0.6.0"
  }
 },
 "nbformat": 4,
 "nbformat_minor": 2
}
