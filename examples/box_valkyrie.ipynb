{
 "cells": [
  {
   "cell_type": "code",
   "execution_count": null,
   "metadata": {},
   "outputs": [],
   "source": [
    "using Revise"
   ]
  },
  {
   "cell_type": "code",
   "execution_count": null,
   "metadata": {},
   "outputs": [],
   "source": [
    "using Polyhedra\n",
    "using CDDLib\n",
    "using DrakeVisualizer\n",
    "DrakeVisualizer.any_open_windows() || DrakeVisualizer.new_window()\n",
    "using RigidBodyDynamics\n",
    "using StaticArrays\n",
    "using RigidBodyTreeInspector\n",
    "using LCPSim\n",
    "using JuMP, Gurobi\n",
    "using Base.Test\n",
    "using ProfileView"
   ]
  },
  {
   "cell_type": "code",
   "execution_count": null,
   "metadata": {},
   "outputs": [],
   "source": [
    "function DrakeVisualizer.addgeometry!(vis::Visualizer, obs::Obstacle, boundary::HRepresentation=SimpleHRepresentation(vcat(eye(3), -eye(3)), vcat([2.5, 0.5, 2.0], -[-1., -0.5, -0.1])))\n",
    "    p = intersect(boundary, obs.interior)\n",
    "    addgeometry!(vis, CDDPolyhedron{3, Float64}(p))\n",
    "end"
   ]
  },
  {
   "cell_type": "code",
   "execution_count": null,
   "metadata": {
    "scrolled": false
   },
   "outputs": [],
   "source": [
    "urdf_mech = parse_urdf(Float64, \"box_valkyrie.urdf\")\n",
    "mechanism, base = planar_revolute_base()\n",
    "attach!(mechanism, base, urdf_mech)\n",
    "world = root_body(mechanism)\n",
    "\n",
    "basevis = Visualizer()[:boxval]\n",
    "delete!(basevis)\n",
    "vis = basevis[:robot]\n",
    "setgeometry!(vis, mechanism, parse_urdf(\"box_valkyrie.urdf\", mechanism))\n",
    "\n",
    "floor = planar_obstacle(default_frame(world), [0, 0, 1.], [0, 0, 0.], 1.)\n",
    "wall = planar_obstacle(default_frame(world), [1., 0, 0], [-0.7, 0, 0], 1.)\n",
    "\n",
    "addgeometry!(basevis[:environment], wall)\n",
    "addgeometry!(basevis[:environment], floor)\n",
    "\n",
    "contact_limbs = findbody.(mechanism, [\"rh\", \"lh\", \"rf\", \"lf\"])\n",
    "hands = findbody.(mechanism, [\"rh\", \"lh\"])\n",
    "feet = findbody.(mechanism, [\"rf\", \"lf\"])\n",
    "\n",
    "env = Environment(\n",
    "    Dict(vcat(\n",
    "            [body => ContactEnvironment(\n",
    "                [Point3D(default_frame(body), SVector(0., 0, 0))],\n",
    "                [floor])\n",
    "                for body in feet],\n",
    "#             [body => ContactEnvironment(\n",
    "#                 [Point3D(default_frame(body), SVector(0., 0, 0))],\n",
    "#                 [wall])\n",
    "#                 for body in hands]\n",
    "            )));"
   ]
  },
  {
   "cell_type": "code",
   "execution_count": null,
   "metadata": {},
   "outputs": [],
   "source": [
    "inspect(mechanism, vis)"
   ]
  },
  {
   "cell_type": "code",
   "execution_count": null,
   "metadata": {
    "scrolled": false
   },
   "outputs": [],
   "source": [
    "x0 = MechanismState{Float64}(mechanism)\n",
    "set_velocity!(x0, zeros(num_velocities(x0)))\n",
    "set_configuration!(x0, findjoint(mechanism, \"base_x\"), [0])\n",
    "set_configuration!(x0, findjoint(mechanism, \"base_z\"), [1.1])\n",
    "set_velocity!(x0, findjoint(mechanism, \"base_x\"), [-1.0])\n",
    "# set_velocity!(x0, findjoint(mechanism, \"core_to_rf_x\"), [-1])\n",
    "set_configuration!(x0, findjoint(mechanism, \"core_to_rh_x\"), [0.6])\n",
    "set_configuration!(x0, findjoint(mechanism, \"core_to_rh_z\"), [0.0])\n",
    "set_configuration!(x0, findjoint(mechanism, \"core_to_lh_x\"), [0.6])\n",
    "set_configuration!(x0, findjoint(mechanism, \"core_to_lh_z\"), [0.0])\n",
    "set_configuration!(x0, findjoint(mechanism, \"core_to_rf_x\"), [0.2])\n",
    "set_configuration!(x0, findjoint(mechanism, \"core_to_rf_z\"), [-0.9])\n",
    "set_configuration!(x0, findjoint(mechanism, \"core_to_lf_x\"), [0.2])\n",
    "set_configuration!(x0, findjoint(mechanism, \"core_to_lf_z\"), [-0.9])\n",
    "\n",
    "settransform!(vis, x0)\n",
    "q0 = copy(configuration(x0))\n",
    "\n",
    "controller = x -> begin\n",
    "    kp = fill(10, num_velocities(x))\n",
    "    kd = 0.1 * kp\n",
    "    u = kp .* (q0 .- configuration(x)) .- kd .* velocity(x)\n",
    "    u\n",
    "end\n",
    "\n",
    "Δt = 0.05\n",
    "\n",
    "@time results = LCPSim.simulate(x0, controller, env, Δt, 100, GurobiSolver(OutputFlag=0));\n",
    "# Profile.clear()\n",
    "# @profile LCPSim.simulate(x0, controller, env, Δt, 15, GurobiSolver(OutputFlag=0));\n",
    "# ProfileView.view()"
   ]
  },
  {
   "cell_type": "code",
   "execution_count": null,
   "metadata": {
    "collapsed": true
   },
   "outputs": [],
   "source": [
    "for r in results\n",
    "    set_configuration!(x0, configuration(r.state))\n",
    "    settransform!(vis, x0)\n",
    "    sleep(Δt)\n",
    "end"
   ]
  },
  {
   "cell_type": "code",
   "execution_count": null,
   "metadata": {},
   "outputs": [],
   "source": [
    "function nominal_input(x0::MechanismState)\n",
    "    u_nominal = clamp.(inverse_dynamics(x0, zeros(num_velocities(x0))), LCPSim.all_effort_bounds(x0.mechanism))\n",
    "    feet = findbody.(x0.mechanism, [\"rf\", \"lf\"])\n",
    "    weight = mass(x0.mechanism) * mechanism.gravitational_acceleration.v[3]\n",
    "    u_nominal[parentindexes(velocity(x0, findjoint(x0.mechanism, \"core_to_rf_z\")))...] += weight / 2\n",
    "    u_nominal[parentindexes(velocity(x0, findjoint(x0.mechanism, \"core_to_lf_z\")))...] += weight / 2\n",
    "    u_nominal\n",
    "end"
   ]
  },
  {
   "cell_type": "code",
   "execution_count": null,
   "metadata": {},
   "outputs": [],
   "source": [
    "function run_optimization(x0, env, Δt, N; solver=GurobiSolver())\n",
    "    u_nominal = nominal_input(x0)\n",
    "    @show u_nominal\n",
    "    \n",
    "    model, results_opt = LCPSim.optimize(x0, env, Δt, N, Model(solver=solver))\n",
    "\n",
    "    w = 0.1 * ones(num_positions(x0))\n",
    "    w[1:3] = 10\n",
    "    \n",
    "    objective = (\n",
    "    0\n",
    "#         + 10 * sum((configuration(results_opt[end].state)[2:end] .- q0[2:end]).^2)\n",
    "#         + 10 * sum((velocity(results_opt[end].state)[1:3]).^2)\n",
    "#         + 10 * sum((configuration(results_opt[end].state)[1:2] .- [0, 1]).^2)\n",
    "#         + 100 * configuration(results_opt[end].state)[3]^2\n",
    "#         + 10 * sum((configuration(results_opt[end].state)[[6, 7, 10, 11]] .- [0.2, 0.2, -0.9, -0.9]).^2)\n",
    "        + 10 * sum(w .* (q0 .- configuration(results_opt[end].state)).^2)\n",
    "#             + sum(velocity(results_opt[end].state).^2)\n",
    "        )\n",
    "    \n",
    "    \n",
    "    for r in results_opt\n",
    "        objective += (\n",
    "            0\n",
    "            + 0.01 * sum((u0 .- r.input).^2)\n",
    "            + 0.1 * sum(w .* (q0 .- configuration(r.state)).^2)\n",
    "#             + 1 * (q0[1] - configuration(r.state)[1])^2\n",
    "#             + (q0[1] - configuration(r.state)[1])^2\n",
    "#             + 0.1 * velocity(r.state)[1]^2\n",
    "#             + 10 * sum((configuration(r.state)[2:end] .- q0[2:end]).^2)\n",
    "#             + 1 * sum(velocity(r.state)[1:3].^2)\n",
    "#             + 0.1 * sum(velocity(r.state)[4:end].^2)\n",
    "#             + configuration(r.state)[3]^2\n",
    "#             + sum((q0 .- configuration(r.state)).^2)\n",
    "#             + 0.01 * sum(velocity(r.state).^2)\n",
    "            )\n",
    "            \n",
    "    end\n",
    "\n",
    "\n",
    "    # for r in results_opt\n",
    "    #     @constraint model configuration(r.state)[3] <= π/16\n",
    "    #     @constraint model configuration(r.state)[3] >= -π/16\n",
    "    # end\n",
    "\n",
    "    for r in results_opt\n",
    "        for (joint, jrs) in r.joint_contacts\n",
    "            for joint_result in jrs\n",
    "#                 JuMP.fix(joint_result.λ, 0)\n",
    "                objective += joint_result.λ^2\n",
    "            end\n",
    "        end \n",
    "    end\n",
    "    \n",
    "    @objective model Min objective\n",
    "\n",
    "    solve(model)\n",
    "    getvalue.(results_opt)\n",
    "end"
   ]
  },
  {
   "cell_type": "code",
   "execution_count": null,
   "metadata": {
    "scrolled": false
   },
   "outputs": [],
   "source": [
    "x0 = MechanismState{Float64}(mechanism)\n",
    "set_velocity!(x0, zeros(num_velocities(x0)))\n",
    "set_velocity!(x0, findjoint(mechanism, \"base_x\"), [2.0])\n",
    "set_velocity!(x0, findjoint(mechanism, \"base_rotation\"), [0])\n",
    "set_configuration!(x0, findjoint(mechanism, \"base_x\"), [0.75])\n",
    "set_configuration!(x0, findjoint(mechanism, \"base_z\"), [.9])\n",
    "set_configuration!(x0, findjoint(mechanism, \"core_to_rh_x\"), [0.6])\n",
    "set_configuration!(x0, findjoint(mechanism, \"core_to_rh_z\"), [0.0])\n",
    "set_configuration!(x0, findjoint(mechanism, \"core_to_lh_x\"), [0.6])\n",
    "set_configuration!(x0, findjoint(mechanism, \"core_to_lh_z\"), [0.0])\n",
    "set_configuration!(x0, findjoint(mechanism, \"core_to_rf_x\"), [0.2])\n",
    "set_configuration!(x0, findjoint(mechanism, \"core_to_rf_z\"), [-.9])\n",
    "set_configuration!(x0, findjoint(mechanism, \"core_to_lf_x\"), [0.2])\n",
    "set_configuration!(x0, findjoint(mechanism, \"core_to_lf_z\"), [-.9])\n",
    "q0 = copy(configuration(x0))\n",
    "v0 = copy(velocity(x0))\n",
    "u0 = nominal_input(x0)\n",
    "\n",
    "# using RigidBodyDynamics: Bounds\n",
    "\n",
    "# findjoint(mechanism, \"core_to_lf_z\").effort_bounds .= Bounds(-30., 30)\n",
    "# findjoint(mechanism, \"core_to_rf_z\").effort_bounds .= Bounds(-30., 30)\n",
    "\n",
    "controller = x -> begin\n",
    "    u = copy(u0)\n",
    "    kp = 100\n",
    "    kd = 0.1 * kp\n",
    "    Δ = kp * (0 - configuration(x)[3]) - kd * velocity(x)[3]\n",
    "    u[4] += Δ\n",
    "    u[5] -= Δ\n",
    "    \n",
    "    Δ = -(10 * (q0[1] - configuration(x)[1]) - 1 * velocity(x)[1])\n",
    "    u[6] += Δ\n",
    "    u[7] -= Δ\n",
    "    u\n",
    "end\n",
    "\n",
    "Δt = 0.05\n",
    "\n",
    "@time results = LCPSim.simulate(x0, controller, env, Δt, 30, GurobiSolver(OutputFlag=0));"
   ]
  },
  {
   "cell_type": "code",
   "execution_count": null,
   "metadata": {
    "collapsed": true
   },
   "outputs": [],
   "source": [
    "set_configuration!(x0, q0)\n",
    "settransform!(vis, x0)\n",
    "for r in results\n",
    "    sleep(Δt)\n",
    "    set_configuration!(x0, configuration(r.state))\n",
    "    settransform!(vis, x0)\n",
    "end"
   ]
  },
  {
   "cell_type": "code",
   "execution_count": null,
   "metadata": {},
   "outputs": [],
   "source": [
    "set_configuration!(x0, q0)\n",
    "set_velocity!(x0, v0)\n",
    "Δt = 0.05\n",
    "results_opt = run_optimization(x0, env, Δt, 15, solver=GurobiSolver(MIPGap=0.01, TimeLimit=60));"
   ]
  },
  {
   "cell_type": "code",
   "execution_count": null,
   "metadata": {},
   "outputs": [],
   "source": [
    "set_configuration!(x0, q0)\n",
    "settransform!(vis, x0)\n",
    "for r in results_opt\n",
    "    sleep(Δt)\n",
    "    set_configuration!(x0, configuration(r.state))\n",
    "    settransform!(vis, x0)\n",
    "end"
   ]
  },
  {
   "cell_type": "code",
   "execution_count": null,
   "metadata": {},
   "outputs": [],
   "source": [
    "set_configuration!(x0, configuration(results_opt[end].state))\n",
    "set_velocity!(x0, velocity(results_opt[end].state))\n",
    "append!(results_opt, run_optimization(x0, env, Δt, 15, solver=GurobiSolver(MIPGap=0.01, TimeLimit=60)));\n",
    "\n",
    "set_configuration!(x0, q0)\n",
    "settransform!(vis, x0)\n",
    "for r in results_opt\n",
    "    sleep(Δt)\n",
    "    set_configuration!(x0, configuration(r.state))\n",
    "    settransform!(vis, x0)\n",
    "end"
   ]
  },
  {
   "cell_type": "code",
   "execution_count": null,
   "metadata": {},
   "outputs": [],
   "source": [
    "x0 = MechanismState(mechanism, copy(q0), copy(v0))\n",
    "u_nominal = nominal_input(x0)\n",
    "i = 1\n",
    "controller = x -> begin\n",
    "    global i\n",
    "    if i <= length(results_opt)\n",
    "        i += 1\n",
    "        results_opt[i - 1].input\n",
    "    else\n",
    "        kp = 20\n",
    "        kd = 0.1 * kp\n",
    "        kp .* (q0 .- configuration(x)) .- kd .* velocity(x) .+ u_nominal\n",
    "    end\n",
    "        \n",
    "end\n",
    "\n",
    "results = LCPSim.simulate(x0, controller, env, Δt, length(results_opt), GurobiSolver(OutputFlag=0));"
   ]
  },
  {
   "cell_type": "code",
   "execution_count": null,
   "metadata": {
    "collapsed": true
   },
   "outputs": [],
   "source": [
    "set_configuration!(x0, q0)\n",
    "settransform!(vis, x0)\n",
    "for r in results\n",
    "    sleep(Δt)\n",
    "    set_configuration!(x0, configuration(r.state))\n",
    "    settransform!(vis, x0)\n",
    "end"
   ]
  },
  {
   "cell_type": "code",
   "execution_count": null,
   "metadata": {},
   "outputs": [],
   "source": [
    "x0 = MechanismState(mechanism, copy(q0), copy(v0))\n",
    "model, results_to_warm = LCPSim.optimize(x0, env, Δt, results[1:30], Model(solver=GurobiSolver()))\n",
    "\n",
    "objective = (\n",
    "    0\n",
    "        + 0.1 * sum((configuration(results_opt[end].state)[2:end] .- q0[2:end]).^2)\n",
    "        + 0.01 * sum((velocity(results_opt[end].state)).^2)\n",
    "#         + 10 * sum((configuration(results_opt[end].state)[1:2] .- [0, 1]).^2)\n",
    "        + 100 * configuration(results_opt[end].state)[3]^2\n",
    "        + 10 * sum((configuration(results_opt[end].state)[[6, 7, 10, 11]] .- [0.2, 0.2, -0.9, -0.9]).^2)\n",
    "        )\n",
    "for r in results_to_warm\n",
    "    objective += configuration(r.state)[3]^2\n",
    "    objective += 0.001 * sum((r.input .- u_nominal).^2)\n",
    "end\n",
    "@objective model Min objective\n",
    "# setvalue.(results_to_warm, results[1:length(results_to_warm)]);\n",
    "ConditionalJuMP.warmstart!(model, true)"
   ]
  },
  {
   "cell_type": "code",
   "execution_count": null,
   "metadata": {
    "scrolled": false
   },
   "outputs": [],
   "source": [
    "solve(model)\n",
    "results_warmed = getvalue.(results_to_warm);"
   ]
  },
  {
   "cell_type": "code",
   "execution_count": null,
   "metadata": {
    "collapsed": true
   },
   "outputs": [],
   "source": [
    "set_configuration!(x0, q0)\n",
    "settransform!(vis, x0)\n",
    "for r in results_warmed\n",
    "    sleep(Δt)\n",
    "    set_configuration!(x0, configuration(r.state))\n",
    "    settransform!(vis, x0)\n",
    "end"
   ]
  },
  {
   "cell_type": "code",
   "execution_count": null,
   "metadata": {
    "collapsed": true
   },
   "outputs": [],
   "source": [
    "vis2 = basevis[:robot2]\n",
    "setgeometry!(vis2, mechanism, parse_urdf(\"box_valkyrie.urdf\", mechanism))"
   ]
  },
  {
   "cell_type": "code",
   "execution_count": null,
   "metadata": {},
   "outputs": [],
   "source": [
    "\n",
    "\n",
    "set_configuration!(x0, q0)\n",
    "settransform!(vis, x0)\n",
    "for i in 1:length(results_warmed)\n",
    "    sleep(Δt)\n",
    "    set_configuration!(x0, configuration(results_warmed[i].state))\n",
    "    settransform!(vis, x0)\n",
    "    set_configuration!(x0, configuration(results[i].state))\n",
    "    settransform!(vis2, x0)\n",
    "end"
   ]
  },
  {
   "cell_type": "code",
   "execution_count": null,
   "metadata": {
    "collapsed": true
   },
   "outputs": [],
   "source": [
    "x0 = MechanismState(mechanism, copy(q0), copy(v0))\n",
    "u_nominal = nominal_input(x0)\n",
    "i = 1\n",
    "controller = x -> begin\n",
    "    global i\n",
    "    if i <= length(results_warmed)\n",
    "        i += 1\n",
    "        results_warmed[i - 1].input\n",
    "    else\n",
    "        kp = 20\n",
    "        kd = 0.1 * kp\n",
    "        kp .* (q0 .- configuration(x)) .- kd .* velocity(x) .+ u_nominal\n",
    "    end\n",
    "        \n",
    "end\n",
    "\n",
    "results = LCPSim.simulate(x0, controller, env, Δt, 30, GurobiSolver(OutputFlag=0));\n",
    "\n"
   ]
  },
  {
   "cell_type": "code",
   "execution_count": null,
   "metadata": {
    "collapsed": true
   },
   "outputs": [],
   "source": [
    "set_configuration!(x0, q0)\n",
    "settransform!(vis, x0)\n",
    "for r in results\n",
    "    sleep(Δt)\n",
    "    set_configuration!(x0, configuration(r.state))\n",
    "    settransform!(vis, x0)\n",
    "end"
   ]
  },
  {
   "cell_type": "code",
   "execution_count": null,
   "metadata": {
    "collapsed": true
   },
   "outputs": [],
   "source": []
  }
 ],
 "metadata": {
  "kernelspec": {
   "display_name": "Julia 0.6.0",
   "language": "julia",
   "name": "julia-0.6"
  },
  "language_info": {
   "file_extension": ".jl",
   "mimetype": "application/julia",
   "name": "julia",
   "version": "0.6.0"
  }
 },
 "nbformat": 4,
 "nbformat_minor": 2
}
