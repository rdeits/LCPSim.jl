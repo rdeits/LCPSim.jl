{
 "cells": [
  {
   "cell_type": "code",
   "execution_count": null,
   "metadata": {
    "collapsed": true
   },
   "outputs": [],
   "source": [
    "using Revise"
   ]
  },
  {
   "cell_type": "code",
   "execution_count": null,
   "metadata": {},
   "outputs": [],
   "source": [
    "using Polyhedra\n",
    "using CDDLib\n",
    "using DrakeVisualizer\n",
    "DrakeVisualizer.any_open_windows() || DrakeVisualizer.new_window()\n",
    "using RigidBodyDynamics\n",
    "using StaticArrays\n",
    "using RigidBodyTreeInspector\n",
    "using MechanismComplementarity\n",
    "using JuMP, Gurobi"
   ]
  },
  {
   "cell_type": "code",
   "execution_count": null,
   "metadata": {
    "collapsed": true
   },
   "outputs": [],
   "source": [
    "function DrakeVisualizer.addgeometry!(vis::Visualizer, obs::Obstacle, boundary::HRepresentation=SimpleHRepresentation(vcat(eye(3), -eye(3)), vcat([1., 0.5, 2.0], -[-1., -0.5, -0.1])))\n",
    "    p = intersect(boundary, obs.interior)\n",
    "    addgeometry!(vis, CDDPolyhedron{3, Float64}(p))\n",
    "end"
   ]
  },
  {
   "cell_type": "code",
   "execution_count": null,
   "metadata": {},
   "outputs": [],
   "source": [
    "urdf_mech = parse_urdf(Float64, \"box_valkyrie.urdf\")\n",
    "mechanism, base = planar_revolute_base()\n",
    "attach!(mechanism, base, urdf_mech)\n",
    "world = root_body(mechanism)\n",
    "\n",
    "basevis = Visualizer()[:boxval]\n",
    "delete!(vis)\n",
    "vis = basevis[:robot]\n",
    "setgeometry!(vis, mechanism, parse_urdf(\"box_valkyrie.urdf\", mechanism))\n",
    "inspect(mechanism, vis)"
   ]
  },
  {
   "cell_type": "code",
   "execution_count": null,
   "metadata": {},
   "outputs": [],
   "source": [
    "floor = planar_obstacle(default_frame(world), [0, 0, 1.], [0, 0, 0.])\n",
    "wall = planar_obstacle(default_frame(world), [1., 0, 0], [-0.7, 0, 0])\n",
    "free_space = space_between([floor, wall])\n",
    "\n",
    "addgeometry!(basevis[:environment], wall)\n",
    "addgeometry!(basevis[:environment], floor)\n",
    "\n",
    "contact_limbs = findbody.(mechanism, [\"rh\", \"lh\", \"rf\", \"lf\"])\n",
    "hands = findbody.(mechanism, [\"rh\", \"lh\"])\n",
    "feet = findbody.(mechanism, [\"rf\", \"lf\"])\n",
    "\n",
    "env = Environment(\n",
    "    Dict(vcat(\n",
    "            [body => ContactEnvironment(\n",
    "                [Point3D(default_frame(body), SVector(0., 0, 0))],\n",
    "                [floor],\n",
    "                [free_space])\n",
    "                for body in feet],\n",
    "            [body => ContactEnvironment(\n",
    "                [Point3D(default_frame(body), SVector(0., 0, 0))],\n",
    "                [wall],\n",
    "                [free_space])\n",
    "                for body in hands])));"
   ]
  },
  {
   "cell_type": "code",
   "execution_count": null,
   "metadata": {},
   "outputs": [],
   "source": [
    "x0 = MechanismState{Float64}(mechanism)\n",
    "set_velocity!(x0, zeros(num_velocities(x0)))\n",
    "set_configuration!(x0, findjoint(mechanism, \"base_x\"), [0])\n",
    "set_configuration!(x0, findjoint(mechanism, \"base_z\"), [1.1])\n",
    "set_velocity!(x0, findjoint(mechanism, \"base_x\"), [-1.0])\n",
    "# set_velocity!(x0, findjoint(mechanism, \"core_to_rf_x\"), [-1])\n",
    "set_configuration!(x0, findjoint(mechanism, \"core_to_rh_x\"), [0.6])\n",
    "set_configuration!(x0, findjoint(mechanism, \"core_to_rh_z\"), [0.0])\n",
    "set_configuration!(x0, findjoint(mechanism, \"core_to_lh_x\"), [0.6])\n",
    "set_configuration!(x0, findjoint(mechanism, \"core_to_lh_z\"), [0.0])\n",
    "set_configuration!(x0, findjoint(mechanism, \"core_to_rf_x\"), [0.2])\n",
    "set_configuration!(x0, findjoint(mechanism, \"core_to_rf_z\"), [-0.9])\n",
    "set_configuration!(x0, findjoint(mechanism, \"core_to_lf_x\"), [0.2])\n",
    "set_configuration!(x0, findjoint(mechanism, \"core_to_lf_z\"), [-0.9])"
   ]
  },
  {
   "cell_type": "code",
   "execution_count": null,
   "metadata": {},
   "outputs": [],
   "source": [
    "settransform!(vis, x0)"
   ]
  },
  {
   "cell_type": "code",
   "execution_count": null,
   "metadata": {
    "scrolled": true
   },
   "outputs": [],
   "source": [
    "controller = x -> begin\n",
    "    kp = fill(10, num_velocities(x))\n",
    "    kd = 0.1 * kp\n",
    "    u = kp .* (configuration(x0) .- configuration(x)) .- kd .* velocity(x)\n",
    "    u[1:3] .= 0\n",
    "    u\n",
    "end\n",
    "\n",
    "Δt = 0.05\n",
    "results = MechanismComplementarity.simulate(x0, controller, env, Δt, 100, GurobiSolver(OutputFlag=0));"
   ]
  },
  {
   "cell_type": "code",
   "execution_count": null,
   "metadata": {
    "collapsed": true
   },
   "outputs": [],
   "source": [
    "for r in results\n",
    "    settransform!(vis, r.state)\n",
    "    sleep(Δt)\n",
    "end"
   ]
  },
  {
   "cell_type": "code",
   "execution_count": null,
   "metadata": {
    "collapsed": true
   },
   "outputs": [],
   "source": [
    "x0 = MechanismState{Float64}(mechanism)\n",
    "set_velocity!(x0, zeros(num_velocities(x0)))\n",
    "set_configuration!(x0, findjoint(mechanism, \"base_x\"), [0])\n",
    "set_configuration!(x0, findjoint(mechanism, \"base_z\"), [1])\n",
    "set_configuration!(x0, findjoint(mechanism, \"core_to_rh_x\"), [0.6])\n",
    "set_configuration!(x0, findjoint(mechanism, \"core_to_rh_z\"), [0.0])\n",
    "set_configuration!(x0, findjoint(mechanism, \"core_to_lh_x\"), [0.6])\n",
    "set_configuration!(x0, findjoint(mechanism, \"core_to_lh_z\"), [0.0])\n",
    "set_configuration!(x0, findjoint(mechanism, \"core_to_rf_x\"), [0.2])\n",
    "set_configuration!(x0, findjoint(mechanism, \"core_to_rf_z\"), [-1])\n",
    "set_configuration!(x0, findjoint(mechanism, \"core_to_lf_x\"), [0.2])\n",
    "set_configuration!(x0, findjoint(mechanism, \"core_to_lf_z\"), [-1])\n",
    "\n",
    "Δt = 0.05\n",
    "input_limits = Dict([\n",
    "        joint=>[-20, 10]\n",
    "    for joint in keys(limits)])\n",
    "\n",
    "model, results_opt = mc.optimize(x0, input_limits, limits, env, Δt, 8, Model(solver=GurobiSolver(TimeLimit=60)))\n",
    "@objective model Min -100 * configuration(results_opt[end].state, findjoint(mechanism, \"base_x\"))[end] + sum([0.001 * sum(r.input.^2) for r in results_opt])\n",
    "\n",
    "solve(model)\n",
    "results_opt = getvalue.(results_opt);"
   ]
  },
  {
   "cell_type": "code",
   "execution_count": null,
   "metadata": {
    "collapsed": true
   },
   "outputs": [],
   "source": [
    "for r in results_opt\n",
    "    settransform!(vis, r.state)\n",
    "    sleep(Δt)\n",
    "end"
   ]
  },
  {
   "cell_type": "code",
   "execution_count": null,
   "metadata": {
    "collapsed": true
   },
   "outputs": [],
   "source": [
    "x0 = MechanismState{Float64}(mechanism)\n",
    "set_velocity!(x0, zeros(num_velocities(x0)))\n",
    "set_configuration!(x0, findjoint(mechanism, \"base_x\"), [0])\n",
    "set_configuration!(x0, findjoint(mechanism, \"base_z\"), [1])\n",
    "set_configuration!(x0, findjoint(mechanism, \"core_to_rh_x\"), [0.6])\n",
    "set_configuration!(x0, findjoint(mechanism, \"core_to_rh_z\"), [0.0])\n",
    "set_configuration!(x0, findjoint(mechanism, \"core_to_lh_x\"), [0.6])\n",
    "set_configuration!(x0, findjoint(mechanism, \"core_to_lh_z\"), [0.0])\n",
    "set_configuration!(x0, findjoint(mechanism, \"core_to_rf_x\"), [0.2])\n",
    "set_configuration!(x0, findjoint(mechanism, \"core_to_rf_z\"), [-1])\n",
    "set_configuration!(x0, findjoint(mechanism, \"core_to_lf_x\"), [0.2])\n",
    "set_configuration!(x0, findjoint(mechanism, \"core_to_lf_z\"), [-1])\n",
    "\n",
    "Δt = 0.05\n",
    "input_limits = Dict([\n",
    "        joint=>[-20, 10]\n",
    "    for joint in keys(limits)])\n",
    "\n",
    "model, results_opt = mc.optimize(x0, input_limits, limits, env, Δt, 32, Model(solver=GurobiSolver(TimeLimit=120)))\n",
    "\n",
    "objective = (\n",
    "    -1 * configuration(results_opt[end].state, findjoint(mechanism, \"base_x\"))[end]\n",
    "#     + 100 * velocity(results_opt[end].state, findjoint(mechanism, \"base_x\"))[end]^2\n",
    "#     + 100 * velocity(results_opt[end].state, findjoint(mechanism, \"base_z\"))[end]^2\n",
    "    )\n",
    "# objective += sum([0.01 * sum(r.input.^2) for r in results_opt])\n",
    "\n",
    "@objective model Min objective\n",
    "\n",
    "for r in results_opt\n",
    "    for (body, crs) in r.contacts\n",
    "        for contact_result in crs\n",
    "            JuMP.fix(contact_result.λ, 0)\n",
    "        end\n",
    "    end\n",
    "    \n",
    "    for (joint, jrs) in r.joint_contacts\n",
    "        for joint_result in jrs\n",
    "            JuMP.fix(joint_result.λ, 0)\n",
    "        end\n",
    "    end \n",
    "end\n",
    "\n",
    "solve(model)\n",
    "results_opt = getvalue.(results_opt);"
   ]
  },
  {
   "cell_type": "code",
   "execution_count": null,
   "metadata": {
    "collapsed": true
   },
   "outputs": [],
   "source": [
    "for r in results_opt\n",
    "    settransform!(vis, r.state)\n",
    "    sleep(Δt)\n",
    "end"
   ]
  },
  {
   "cell_type": "code",
   "execution_count": null,
   "metadata": {
    "collapsed": true
   },
   "outputs": [],
   "source": [
    "i = 1\n",
    "controller = x -> begin\n",
    "    global i\n",
    "    if i <= length(results_opt)\n",
    "        i += 1\n",
    "        results_opt[i - 1].input\n",
    "    else\n",
    "        kp = 20\n",
    "        kd = 0.1 * kp\n",
    "        u = kp .* (configuration(x0) .- configuration(x))[3:end] .- kd .* velocity(x)[3:end]\n",
    "        vcat(zeros(2), u)\n",
    "    end\n",
    "        \n",
    "end\n",
    "\n",
    "results = mc.simulate(x0, controller, limits, env, Δt, 60, GurobiSolver(OutputFlag=0));"
   ]
  },
  {
   "cell_type": "code",
   "execution_count": null,
   "metadata": {
    "collapsed": true
   },
   "outputs": [],
   "source": [
    "settransform!(vis, results[1].state)"
   ]
  },
  {
   "cell_type": "code",
   "execution_count": null,
   "metadata": {
    "collapsed": true
   },
   "outputs": [],
   "source": [
    "for r in results\n",
    "    settransform!(vis, r.state)\n",
    "    sleep(Δt)\n",
    "end"
   ]
  },
  {
   "cell_type": "code",
   "execution_count": null,
   "metadata": {
    "collapsed": true
   },
   "outputs": [],
   "source": []
  }
 ],
 "metadata": {
  "kernelspec": {
   "display_name": "Julia 0.6.0",
   "language": "julia",
   "name": "julia-0.6"
  },
  "language_info": {
   "file_extension": ".jl",
   "mimetype": "application/julia",
   "name": "julia",
   "version": "0.6.0"
  }
 },
 "nbformat": 4,
 "nbformat_minor": 2
}
