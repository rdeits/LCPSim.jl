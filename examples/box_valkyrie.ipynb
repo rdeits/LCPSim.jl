{
 "cells": [
  {
   "cell_type": "code",
   "execution_count": null,
   "metadata": {},
   "outputs": [],
   "source": [
    "using Polyhedra\n",
    "using DrakeVisualizer\n",
    "DrakeVisualizer.any_open_windows() || DrakeVisualizer.new_window()\n",
    "using RigidBodyDynamics\n",
    "using StaticArrays\n",
    "using RigidBodyTreeInspector\n",
    "import MechanismComplementarity\n",
    "using JuMP, Gurobi"
   ]
  },
  {
   "cell_type": "code",
   "execution_count": null,
   "metadata": {},
   "outputs": [],
   "source": [
    "reload(\"MechanismComplementarity\")\n",
    "mc = MechanismComplementarity"
   ]
  },
  {
   "cell_type": "code",
   "execution_count": null,
   "metadata": {},
   "outputs": [],
   "source": [
    "function planar_base()\n",
    "    world = RigidBody{Float64}(\"world\")\n",
    "    mechanism = Mechanism(world; gravity=SVector(0, 0, -9.81))\n",
    "\n",
    "    frame = CartesianFrame3D(\"dummy\")\n",
    "    inertia = SpatialInertia(frame, 0 * eye(3), zeros(3), 0.0)\n",
    "    dummy = RigidBody(inertia)\n",
    "    base_x = Joint(\"base_x\", Prismatic([1., 0, 0]))\n",
    "    attach!(mechanism, world, base_x, eye(Transform3D, frame_before(base_x), default_frame(world)), dummy)\n",
    "\n",
    "    frame = CartesianFrame3D(\"base\")\n",
    "    inertia = SpatialInertia(frame, 0.1 * eye(3), zeros(3), 1.0)\n",
    "    base = RigidBody(inertia)\n",
    "    base_z = Joint(\"base_z\", Prismatic([0., 0, 1]))\n",
    "    attach!(mechanism, dummy, base_z, eye(Transform3D, frame_before(base_z), default_frame(dummy)), base)\n",
    "    mechanism, base\n",
    "end\n",
    "\n",
    "function planar_revolute_base()\n",
    "    mechanism, base = planar_base()\n",
    "    frame = CartesianFrame3D(\"base_revolute\")\n",
    "    inertia = SpatialInertia(frame, 0.1 * eye(3), zeros(3), 1.0)\n",
    "    body = RigidBody(inertia)\n",
    "    joint = Joint(\"base_rotation\", Revolute([0., 1., 0]))\n",
    "    attach!(mechanism, base, joint, eye(Transform3D, frame_before(joint), default_frame(base)), body)\n",
    "    mechanism, body\n",
    "end"
   ]
  },
  {
   "cell_type": "code",
   "execution_count": null,
   "metadata": {},
   "outputs": [],
   "source": [
    "urdf_mech = parse_urdf(Float64, \"box_valkyrie.urdf\")\n",
    "mechanism, base = planar_revolute_base()\n",
    "attach!(mechanism, base, urdf_mech)\n",
    "world = root_body(mechanism)\n",
    "\n",
    "vis = Visualizer()[:boxval]\n",
    "setgeometry!(vis, mechanism, parse_urdf(\"box_valkyrie.urdf\", mechanism))\n",
    "inspect(mechanism, vis)"
   ]
  },
  {
   "cell_type": "code",
   "execution_count": null,
   "metadata": {},
   "outputs": [],
   "source": [
    "floor = mc.Obstacle(\n",
    "    default_frame(world),\n",
    "    SimpleHRepresentation{3, Float64}([0 0 1], [0]),\n",
    "    HalfSpace{3, Float64}([0, 0, 1], 0),\n",
    "    1.0)\n",
    "\n",
    "free_space = mc.FreeRegion(\n",
    "    default_frame(world),\n",
    "    SimpleHRepresentation{3, Float64}(\n",
    "        [0 0 -1; \n",
    "         -1 0 0],\n",
    "        [0, 1])\n",
    "    )\n",
    "\n",
    "contact_limbs = findbody.(mechanism, [\"rh\", \"lh\", \"rf\", \"lf\"])\n",
    "\n",
    "wall = mc.Obstacle(\n",
    "    default_frame(world),\n",
    "    SimpleHRepresentation{3, Float64}([1 0 0], [0]),\n",
    "    HalfSpace{3, Float64}([1, 0, 0], 0),\n",
    "    1.0)\n",
    "    \n",
    "\n",
    "env = mc.Environment(\n",
    "    Dict([body => mc.ContactEnvironment(\n",
    "                [Point3D(default_frame(body), SVector(0., 0, 0))],\n",
    "                [floor],\n",
    "                [free_space])\n",
    "            for body in contact_limbs]));"
   ]
  },
  {
   "cell_type": "code",
   "execution_count": null,
   "metadata": {},
   "outputs": [],
   "source": [
    "limits = Dict([\n",
    "    findjoint(mechanism, \"core_to_rh_x\") => SimpleHRepresentation([1. -1]', [0.75, -0.25]),\n",
    "    findjoint(mechanism, \"core_to_lh_x\") => SimpleHRepresentation([1. -1]', [0.75, -0.25]),\n",
    "    findjoint(mechanism, \"core_to_rh_z\") => SimpleHRepresentation([1. -1]', [0.5, 0.5]),\n",
    "    findjoint(mechanism, \"core_to_lh_z\") => SimpleHRepresentation([1. -1]', [0.5, 0.5]),\n",
    "    findjoint(mechanism, \"core_to_rf_x\") => SimpleHRepresentation([1. -1]', [0.5, 0.0]),\n",
    "    findjoint(mechanism, \"core_to_lf_x\") => SimpleHRepresentation([1. -1]', [0.5, 0.0]),\n",
    "    findjoint(mechanism, \"core_to_rf_z\") => SimpleHRepresentation([1. -1]', [-0.5, 1.0]),\n",
    "    findjoint(mechanism, \"core_to_lf_z\") => SimpleHRepresentation([1. -1]', [-0.5, 1.0]),\n",
    "        ])"
   ]
  },
  {
   "cell_type": "code",
   "execution_count": null,
   "metadata": {},
   "outputs": [],
   "source": [
    "x0 = MechanismState{Float64}(mechanism)\n",
    "set_velocity!(x0, zeros(num_velocities(x0)))\n",
    "set_configuration!(x0, findjoint(mechanism, \"base_x\"), [0])\n",
    "set_configuration!(x0, findjoint(mechanism, \"base_z\"), [1.1])\n",
    "set_velocity!(x0, findjoint(mechanism, \"base_x\"), [2.0])\n",
    "set_configuration!(x0, findjoint(mechanism, \"core_to_rh_x\"), [0.6])\n",
    "set_configuration!(x0, findjoint(mechanism, \"core_to_rh_z\"), [0.0])\n",
    "set_configuration!(x0, findjoint(mechanism, \"core_to_lh_x\"), [0.6])\n",
    "set_configuration!(x0, findjoint(mechanism, \"core_to_lh_z\"), [0.0])\n",
    "set_configuration!(x0, findjoint(mechanism, \"core_to_rf_x\"), [0.2])\n",
    "set_configuration!(x0, findjoint(mechanism, \"core_to_rf_z\"), [-0.9])\n",
    "set_configuration!(x0, findjoint(mechanism, \"core_to_lf_x\"), [0.2])\n",
    "set_configuration!(x0, findjoint(mechanism, \"core_to_lf_z\"), [-0.9])"
   ]
  },
  {
   "cell_type": "code",
   "execution_count": null,
   "metadata": {},
   "outputs": [],
   "source": [
    "settransform!(vis, x0)"
   ]
  },
  {
   "cell_type": "code",
   "execution_count": null,
   "metadata": {},
   "outputs": [],
   "source": [
    "\n",
    "controller = x -> begin\n",
    "    kp = 50\n",
    "    kd = 0.1 * kp\n",
    "    u = kp .* (configuration(x0) .- configuration(x)) .- kd .* velocity(x)\n",
    "    u[1:3] .= 0\n",
    "    u\n",
    "end\n",
    "\n",
    "Δt = 0.05\n",
    "results = mc.simulate(x0, controller, limits, env, Δt, 10, GurobiSolver(OutputFlag=0));"
   ]
  },
  {
   "cell_type": "code",
   "execution_count": null,
   "metadata": {},
   "outputs": [],
   "source": [
    "results[end].joint_contacts[findjoint(mechanism, \"core_to_rf_x\")]"
   ]
  },
  {
   "cell_type": "code",
   "execution_count": null,
   "metadata": {},
   "outputs": [],
   "source": [
    "results[end].joint_contacts[findjoint(mechanism, \"core_to_rf_z\")]"
   ]
  },
  {
   "cell_type": "code",
   "execution_count": null,
   "metadata": {
    "collapsed": true
   },
   "outputs": [],
   "source": [
    "for r in results\n",
    "    settransform!(vis, r.state)\n",
    "    sleep(Δt)\n",
    "end"
   ]
  },
  {
   "cell_type": "code",
   "execution_count": null,
   "metadata": {
    "collapsed": true
   },
   "outputs": [],
   "source": []
  },
  {
   "cell_type": "code",
   "execution_count": null,
   "metadata": {},
   "outputs": [],
   "source": [
    "x0 = MechanismState{Float64}(mechanism)\n",
    "set_velocity!(x0, zeros(num_velocities(x0)))\n",
    "set_configuration!(x0, findjoint(mechanism, \"base_x\"), [0])\n",
    "set_configuration!(x0, findjoint(mechanism, \"base_z\"), [1])\n",
    "set_configuration!(x0, findjoint(mechanism, \"core_to_rh_x\"), [0.6])\n",
    "set_configuration!(x0, findjoint(mechanism, \"core_to_rh_z\"), [0.0])\n",
    "set_configuration!(x0, findjoint(mechanism, \"core_to_lh_x\"), [0.6])\n",
    "set_configuration!(x0, findjoint(mechanism, \"core_to_lh_z\"), [0.0])\n",
    "set_configuration!(x0, findjoint(mechanism, \"core_to_rf_x\"), [0.2])\n",
    "set_configuration!(x0, findjoint(mechanism, \"core_to_rf_z\"), [-1])\n",
    "set_configuration!(x0, findjoint(mechanism, \"core_to_lf_x\"), [0.2])\n",
    "set_configuration!(x0, findjoint(mechanism, \"core_to_lf_z\"), [-1])\n",
    "\n",
    "Δt = 0.05\n",
    "input_limits = Dict([\n",
    "        joint=>[-20, 10]\n",
    "    for joint in keys(limits)])\n",
    "\n",
    "model, results_opt = mc.optimize(x0, input_limits, limits, env, Δt, 8, Model(solver=GurobiSolver(TimeLimit=60)))\n",
    "@objective model Min -100 * configuration(results_opt[end].state, findjoint(mechanism, \"base_x\"))[end] + sum([0.001 * sum(r.input.^2) for r in results_opt])\n",
    "\n",
    "solve(model)\n",
    "results_opt = getvalue.(results_opt);"
   ]
  },
  {
   "cell_type": "code",
   "execution_count": null,
   "metadata": {},
   "outputs": [],
   "source": [
    "x0 = MechanismState{Float64}(mechanism)\n",
    "set_velocity!(x0, zeros(num_velocities(x0)))\n",
    "set_configuration!(x0, findjoint(mechanism, \"base_x\"), [0])\n",
    "set_configuration!(x0, findjoint(mechanism, \"base_z\"), [1])\n",
    "set_configuration!(x0, findjoint(mechanism, \"core_to_rh_x\"), [0.6])\n",
    "set_configuration!(x0, findjoint(mechanism, \"core_to_rh_z\"), [0.0])\n",
    "set_configuration!(x0, findjoint(mechanism, \"core_to_lh_x\"), [0.6])\n",
    "set_configuration!(x0, findjoint(mechanism, \"core_to_lh_z\"), [0.0])\n",
    "set_configuration!(x0, findjoint(mechanism, \"core_to_rf_x\"), [0.2])\n",
    "set_configuration!(x0, findjoint(mechanism, \"core_to_rf_z\"), [-1])\n",
    "set_configuration!(x0, findjoint(mechanism, \"core_to_lf_x\"), [0.2])\n",
    "set_configuration!(x0, findjoint(mechanism, \"core_to_lf_z\"), [-1])\n",
    "\n",
    "Δt = 0.05\n",
    "input_limits = Dict([\n",
    "        joint=>[-20, 10]\n",
    "    for joint in keys(limits)])\n",
    "\n",
    "model, results_opt = mc.optimize(x0, input_limits, limits, env, Δt, 32, Model(solver=GurobiSolver(TimeLimit=120)))\n",
    "\n",
    "objective = (\n",
    "    -1 * configuration(results_opt[end].state, findjoint(mechanism, \"base_x\"))[end]\n",
    "#     + 100 * velocity(results_opt[end].state, findjoint(mechanism, \"base_x\"))[end]^2\n",
    "#     + 100 * velocity(results_opt[end].state, findjoint(mechanism, \"base_z\"))[end]^2\n",
    "    )\n",
    "# objective += sum([0.01 * sum(r.input.^2) for r in results_opt])\n",
    "\n",
    "@objective model Min objective\n",
    "\n",
    "for r in results_opt\n",
    "    for (body, crs) in r.contacts\n",
    "        for contact_result in crs\n",
    "            JuMP.fix(contact_result.λ, 0)\n",
    "        end\n",
    "    end\n",
    "    \n",
    "    for (joint, jrs) in r.joint_contacts\n",
    "        for joint_result in jrs\n",
    "            JuMP.fix(joint_result.λ, 0)\n",
    "        end\n",
    "    end \n",
    "end\n",
    "\n",
    "solve(model)\n",
    "results_opt = getvalue.(results_opt);"
   ]
  },
  {
   "cell_type": "code",
   "execution_count": null,
   "metadata": {},
   "outputs": [],
   "source": [
    "for r in results_opt\n",
    "    settransform!(vis, r.state)\n",
    "    sleep(Δt)\n",
    "end"
   ]
  },
  {
   "cell_type": "code",
   "execution_count": null,
   "metadata": {},
   "outputs": [],
   "source": [
    "i = 1\n",
    "controller = x -> begin\n",
    "    global i\n",
    "    if i <= length(results_opt)\n",
    "        i += 1\n",
    "        results_opt[i - 1].input\n",
    "    else\n",
    "        kp = 20\n",
    "        kd = 0.1 * kp\n",
    "        u = kp .* (configuration(x0) .- configuration(x))[3:end] .- kd .* velocity(x)[3:end]\n",
    "        vcat(zeros(2), u)\n",
    "    end\n",
    "        \n",
    "end\n",
    "\n",
    "results = mc.simulate(x0, controller, limits, env, Δt, 60, GurobiSolver(OutputFlag=0));"
   ]
  },
  {
   "cell_type": "code",
   "execution_count": null,
   "metadata": {},
   "outputs": [],
   "source": [
    "settransform!(vis, results[1].state)"
   ]
  },
  {
   "cell_type": "code",
   "execution_count": null,
   "metadata": {
    "collapsed": true
   },
   "outputs": [],
   "source": [
    "for r in results\n",
    "    settransform!(vis, r.state)\n",
    "    sleep(Δt)\n",
    "end"
   ]
  },
  {
   "cell_type": "code",
   "execution_count": null,
   "metadata": {
    "collapsed": true
   },
   "outputs": [],
   "source": []
  }
 ],
 "metadata": {
  "kernelspec": {
   "display_name": "Julia 0.6.0",
   "language": "julia",
   "name": "julia-0.6"
  },
  "language_info": {
   "file_extension": ".jl",
   "mimetype": "application/julia",
   "name": "julia",
   "version": "0.6.0"
  }
 },
 "nbformat": 4,
 "nbformat_minor": 2
}
