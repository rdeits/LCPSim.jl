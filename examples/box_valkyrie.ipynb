{
 "cells": [
  {
   "cell_type": "code",
   "execution_count": null,
   "metadata": {},
   "outputs": [],
   "source": [
    "using Polyhedra\n",
    "using DrakeVisualizer\n",
    "DrakeVisualizer.any_open_windows() || DrakeVisualizer.new_window()\n",
    "using RigidBodyDynamics\n",
    "using StaticArrays\n",
    "using RigidBodyTreeInspector\n",
    "import MechanismComplementarity\n",
    "using JuMP, Gurobi"
   ]
  },
  {
   "cell_type": "code",
   "execution_count": null,
   "metadata": {},
   "outputs": [],
   "source": [
    "reload(\"MechanismComplementarity\")\n",
    "mc = MechanismComplementarity"
   ]
  },
  {
   "cell_type": "code",
   "execution_count": null,
   "metadata": {},
   "outputs": [],
   "source": [
    "mechanism = parse_urdf(Float64, \"box_valkyrie.urdf\")\n",
    "world = root_body(mechanism)\n",
    "floating_base = joint_to_parent(findbody(mechanism, \"core\"), mechanism)\n",
    "floating_base.jointType = QuaternionFloating{Float64}()\n",
    "\n",
    "vis = Visualizer()[:boxval]\n",
    "setgeometry!(vis, mechanism, parse_urdf(\"box_valkyrie.urdf\", mechanism))\n",
    "inspect(mechanism, vis)"
   ]
  },
  {
   "cell_type": "code",
   "execution_count": null,
   "metadata": {},
   "outputs": [],
   "source": [
    "floor = mc.Obstacle(\n",
    "    default_frame(world),\n",
    "    SimpleHRepresentation{3, Float64}([0 0 1], [0]),\n",
    "    HalfSpace{3, Float64}([0, 0, 1], 0),\n",
    "    0.5)\n",
    "\n",
    "free_space = mc.FreeRegion(\n",
    "    default_frame(world),\n",
    "    SimpleHRepresentation{3, Float64}(\n",
    "        [0 0 -1],\n",
    "        [0])\n",
    "    )\n",
    "\n",
    "contact_limbs = findbody.(mechanism, [\"rh\", \"lh\", \"rf\", \"lf\"])\n",
    "\n",
    "env = mc.Environment(\n",
    "    Dict([body => mc.ContactEnvironment(\n",
    "                [Point3D(default_frame(body), SVector(0., 0, 0))],\n",
    "                [floor],\n",
    "                [free_space])\n",
    "            for body in contact_limbs]));"
   ]
  },
  {
   "cell_type": "code",
   "execution_count": null,
   "metadata": {},
   "outputs": [],
   "source": [
    "limits = Dict([\n",
    "    findjoint(mechanism, \"core_to_rh_x\") => SimpleHRepresentation([1. -1]', [1.0, -0.5]),\n",
    "    findjoint(mechanism, \"core_to_lh_x\") => SimpleHRepresentation([1. -1]', [1.0, -0.5]),\n",
    "    findjoint(mechanism, \"core_to_rh_z\") => SimpleHRepresentation([1. -1]', [0.5, 0.5]),\n",
    "    findjoint(mechanism, \"core_to_lh_z\") => SimpleHRepresentation([1. -1]', [0.5, 0.5]),\n",
    "    findjoint(mechanism, \"core_to_rf_x\") => SimpleHRepresentation([1. -1]', [0.5, 0.0]),\n",
    "    findjoint(mechanism, \"core_to_lf_x\") => SimpleHRepresentation([1. -1]', [0.5, 0.0]),\n",
    "    findjoint(mechanism, \"core_to_rf_z\") => SimpleHRepresentation([1. -1]', [-0.5, 1.0]),\n",
    "    findjoint(mechanism, \"core_to_lf_z\") => SimpleHRepresentation([1. -1]', [-0.5, 1.0]),\n",
    "        ])"
   ]
  },
  {
   "cell_type": "code",
   "execution_count": null,
   "metadata": {},
   "outputs": [],
   "source": [
    "x0 = MechanismState{Float64}(mechanism)\n",
    "set_velocity!(x0, zeros(num_velocities(x0)))\n",
    "set_velocity!(x0, floating_base, [0, 0, 0, 0, 0, 0])\n",
    "set_configuration!(x0, floating_base, [1, 0, 0, 0, 0, 0, 1])\n",
    "set_configuration!(x0, findjoint(mechanism, \"core_to_rh_x\"), [0.6])\n",
    "set_configuration!(x0, findjoint(mechanism, \"core_to_rh_z\"), [0.0])\n",
    "set_configuration!(x0, findjoint(mechanism, \"core_to_lh_x\"), [0.6])\n",
    "set_configuration!(x0, findjoint(mechanism, \"core_to_lh_z\"), [0.0])\n",
    "set_configuration!(x0, findjoint(mechanism, \"core_to_rf_x\"), [0.2])\n",
    "set_configuration!(x0, findjoint(mechanism, \"core_to_rf_z\"), [-0.9])\n",
    "set_configuration!(x0, findjoint(mechanism, \"core_to_lf_x\"), [0.2])\n",
    "set_configuration!(x0, findjoint(mechanism, \"core_to_lf_z\"), [-0.9])"
   ]
  },
  {
   "cell_type": "code",
   "execution_count": null,
   "metadata": {},
   "outputs": [],
   "source": [
    "settransform!(vis, x0)"
   ]
  },
  {
   "cell_type": "code",
   "execution_count": null,
   "metadata": {},
   "outputs": [],
   "source": [
    "\n",
    "controller = x -> begin\n",
    "    kp = 20\n",
    "    kd = 0.1 * kp\n",
    "    u = kp .* (configuration(x0) .- configuration(x))[5:end] .- kd .* velocity(x)[4:end]\n",
    "    vcat(zeros(3), u)\n",
    "end\n",
    "\n",
    "Δt = 0.05\n",
    "results = mc.simulate(x0, controller, limits, env, Δt, 120, GurobiSolver(OutputFlag=0));"
   ]
  },
  {
   "cell_type": "code",
   "execution_count": null,
   "metadata": {
    "collapsed": true
   },
   "outputs": [],
   "source": [
    "for r in results\n",
    "    settransform!(vis, r.state)\n",
    "    sleep(Δt)\n",
    "end"
   ]
  },
  {
   "cell_type": "code",
   "execution_count": null,
   "metadata": {
    "collapsed": true
   },
   "outputs": [],
   "source": [
    "x0 = MechanismState{Float64}(mechanism)\n",
    "set_velocity!(x0, zeros(num_velocities(x0)))\n",
    "set_configuration!(x0, floating_base, [1, 0, 0, 0, 0, 0, 1.0])\n",
    "set_configuration!(x0, findjoint(mechanism, \"core_to_rh_x\"), [0.6])\n",
    "set_configuration!(x0, findjoint(mechanism, \"core_to_rh_z\"), [0.0])\n",
    "set_configuration!(x0, findjoint(mechanism, \"core_to_lh_x\"), [0.6])\n",
    "set_configuration!(x0, findjoint(mechanism, \"core_to_lh_z\"), [0.0])\n",
    "set_configuration!(x0, findjoint(mechanism, \"core_to_rf_x\"), [0.2])\n",
    "set_configuration!(x0, findjoint(mechanism, \"core_to_rf_z\"), [-1])\n",
    "set_configuration!(x0, findjoint(mechanism, \"core_to_lf_x\"), [0.2])\n",
    "set_configuration!(x0, findjoint(mechanism, \"core_to_lf_z\"), [-1])"
   ]
  },
  {
   "cell_type": "code",
   "execution_count": null,
   "metadata": {},
   "outputs": [],
   "source": [
    "Δt = 0.05\n",
    "input_limits = Dict([\n",
    "        joint=>[-10, 10]\n",
    "    for joint in keys(limits)])\n",
    "\n",
    "model, results_opt = mc.optimize(x0, input_limits, limits, env, Δt, 7, Model(solver=GurobiSolver(TimeLimit=60)))\n",
    "@objective model Min -100 * configuration(results_opt[end].state, floating_base)[end] + sum([0.001 * sum(r.input.^2) for r in results_opt])\n",
    "for i in 1:length(results_opt)\n",
    "    @constraint(model, results_opt[i].state.q[1:4] .== [1, 0, 0, 0])\n",
    "end\n",
    "solve(model)\n",
    "results_opt = getvalue.(results_opt);"
   ]
  },
  {
   "cell_type": "code",
   "execution_count": null,
   "metadata": {
    "collapsed": true
   },
   "outputs": [],
   "source": [
    "for r in results_opt\n",
    "    settransform!(vis, r.state)\n",
    "    sleep(0.2)\n",
    "end"
   ]
  },
  {
   "cell_type": "code",
   "execution_count": null,
   "metadata": {
    "collapsed": true
   },
   "outputs": [],
   "source": []
  }
 ],
 "metadata": {
  "kernelspec": {
   "display_name": "Julia 0.6.0",
   "language": "julia",
   "name": "julia-0.6"
  },
  "language_info": {
   "file_extension": ".jl",
   "mimetype": "application/julia",
   "name": "julia",
   "version": "0.6.0"
  }
 },
 "nbformat": 4,
 "nbformat_minor": 2
}
