{
 "cells": [
  {
   "cell_type": "code",
   "execution_count": 1,
   "metadata": {
    "collapsed": true
   },
   "outputs": [],
   "source": [
    "using Revise"
   ]
  },
  {
   "cell_type": "code",
   "execution_count": 2,
   "metadata": {},
   "outputs": [
    {
     "data": {
      "text/html": [
       "<div id=\"interact-js-shim\">\n",
       "    <script charset=\"utf-8\">\n",
       "(function (IPython, $, _, MathJax) {\n",
       "    $.event.special.destroyed = {\n",
       "\tremove: function(o) {\n",
       "\t    if (o.handler) {\n",
       "\t\to.handler.apply(this, arguments)\n",
       "\t    }\n",
       "\t}\n",
       "    }\n",
       "\n",
       "    var OutputArea = IPython.version >= \"4.0.0\" ? require(\"notebook/js/outputarea\").OutputArea : IPython.OutputArea;\n",
       "\n",
       "    var redrawValue = function (container, type, val) {\n",
       "\tvar selector = $(\"<div/>\");\n",
       "\tvar oa = new OutputArea(_.extend(selector, {\n",
       "\t    selector: selector,\n",
       "\t    prompt_area: true,\n",
       "\t    events: IPython.events,\n",
       "\t    keyboard_manager: IPython.keyboard_manager\n",
       "\t})); // Hack to work with IPython 2.1.0\n",
       "\n",
       "\tswitch (type) {\n",
       "\tcase \"image/png\":\n",
       "            var _src = 'data:' + type + ';base64,' + val;\n",
       "\t    $(container).find(\"img\").attr('src', _src);\n",
       "\t    break;\n",
       "\tcase \"text/latex\":\n",
       "\t\tif (MathJax){\n",
       "\t\t\tvar math = MathJax.Hub.getAllJax(container)[0];\n",
       "\t\t\tMathJax.Hub.Queue([\"Text\", math, val.replace(/^\\${1,2}|\\${1,2}$/g, '')]);\n",
       "\t\t\tbreak;\n",
       "\t\t}\n",
       "\tdefault:\n",
       "\t    var toinsert = OutputArea.append_map[type].apply(\n",
       "\t\toa, [val, {}, selector]\n",
       "\t    );\n",
       "\t    $(container).empty().append(toinsert.contents());\n",
       "\t    selector.remove();\n",
       "\t}\n",
       "    }\n",
       "\n",
       "\n",
       "    $(document).ready(function() {\n",
       "\tfunction initComm(evt, data) {\n",
       "\t    var comm_manager = data.kernel.comm_manager;\n",
       "        //_.extend(comm_manager.targets, require(\"widgets/js/widget\"))\n",
       "\t    comm_manager.register_target(\"Signal\", function (comm) {\n",
       "            comm.on_msg(function (msg) {\n",
       "                var val = msg.content.data.value;\n",
       "                $(\".signal-\" + comm.comm_id).each(function() {\n",
       "                var type = $(this).data(\"type\");\n",
       "                if (typeof(val[type]) !== \"undefined\" && val[type] !== null) {\n",
       "                    redrawValue(this, type, val[type], type);\n",
       "                }\n",
       "                });\n",
       "                delete val;\n",
       "                delete msg.content.data.value;\n",
       "            });\n",
       "\t    });\n",
       "\n",
       "\t    // coordingate with Comm and redraw Signals\n",
       "\t    // XXX: Test using Reactive here to improve performance\n",
       "\t    $([IPython.events]).on(\n",
       "\t\t'output_appended.OutputArea', function (event, type, value, md, toinsert) {\n",
       "\t\t    if (md && md.reactive) {\n",
       "                // console.log(md.comm_id);\n",
       "                toinsert.addClass(\"signal-\" + md.comm_id);\n",
       "                toinsert.data(\"type\", type);\n",
       "                // Signal back indicating the mimetype required\n",
       "                var comm_manager = IPython.notebook.kernel.comm_manager;\n",
       "                var comm = comm_manager.comms[md.comm_id];\n",
       "                comm.then(function (c) {\n",
       "                    c.send({action: \"subscribe_mime\",\n",
       "                       mime: type});\n",
       "                    toinsert.bind(\"destroyed\", function() {\n",
       "                        c.send({action: \"unsubscribe_mime\",\n",
       "                               mime: type});\n",
       "                    });\n",
       "                })\n",
       "\t\t    }\n",
       "\t    });\n",
       "\t}\n",
       "\n",
       "\ttry {\n",
       "\t    // try to initialize right away. otherwise, wait on the status_started event.\n",
       "\t    initComm(undefined, IPython.notebook);\n",
       "\t} catch (e) {\n",
       "\t    $([IPython.events]).on('kernel_created.Kernel kernel_created.Session', initComm);\n",
       "\t}\n",
       "    });\n",
       "})(IPython, jQuery, _, MathJax);\n",
       "</script>\n",
       "    <script>\n",
       "        window.interactLoadedFlag = true\n",
       "       $(\"#interact-js-shim\").bind(\"destroyed\", function () {\n",
       "           if (window.interactLoadedFlag) {\n",
       "               console.warn(\"JavaScript required by Interact will be removed if you remove this cell or run using Interact more than once.\")\n",
       "           }\n",
       "       })\n",
       "       $([IPython.events]).on(\"kernel_starting.Kernel kernel_restarting.Kernel\", function () { window.interactLoadedFlag = false })\n",
       "   </script>\n",
       "</div>"
      ]
     },
     "metadata": {},
     "output_type": "display_data"
    },
    {
     "name": "stderr",
     "output_type": "stream",
     "text": [
      "WARNING: using Gurobi.model_name in module Main conflicts with an existing identifier.\n"
     ]
    }
   ],
   "source": [
    "using Polyhedra\n",
    "using CDDLib\n",
    "using DrakeVisualizer\n",
    "DrakeVisualizer.any_open_windows() || DrakeVisualizer.new_window()\n",
    "using RigidBodyDynamics\n",
    "using StaticArrays\n",
    "using RigidBodyTreeInspector\n",
    "using MechanismComplementarity\n",
    "using JuMP, Gurobi"
   ]
  },
  {
   "cell_type": "code",
   "execution_count": 3,
   "metadata": {},
   "outputs": [],
   "source": [
    "function DrakeVisualizer.addgeometry!(vis::Visualizer, obs::Obstacle, boundary::HRepresentation=SimpleHRepresentation(vcat(eye(3), -eye(3)), vcat([1., 0.5, 2.0], -[-1., -0.5, -0.1])))\n",
    "    p = intersect(boundary, obs.interior)\n",
    "    addgeometry!(vis, CDDPolyhedron{3, Float64}(p))\n",
    "end"
   ]
  },
  {
   "cell_type": "code",
   "execution_count": 4,
   "metadata": {},
   "outputs": [
    {
     "data": {
      "text/plain": [
       "MechanismComplementarity.Environment{Float64}(Dict(RigidBody: \"core\"=>MechanismComplementarity.ContactEnvironment{Float64}(RigidBodyDynamics.Point3D{SVector{3,Float64}}[Point3D in \"after_core_to_world\": [0.1, 0.0, 0.2], Point3D in \"after_core_to_world\": [-0.1, 0.0, 0.2], Point3D in \"after_core_to_world\": [0.1, 0.0, -0.2], Point3D in \"after_core_to_world\": [-0.1, 0.0, -0.2]], MechanismComplementarity.Obstacle{Float64}[MechanismComplementarity.Obstacle{Float64}(CartesianFrame3D: \"world\" (id = 5), H-representation\n",
       "begin\n",
       " 1 4 real\n",
       " 0.0 -0.0 -0.0 -1.0\n",
       "end, Polyhedra.HalfSpace{3,Float64}([0.0, 0.0, 1.0], 0.0), 1.0)], MechanismComplementarity.FreeRegion{Float64}[MechanismComplementarity.FreeRegion{Float64}(CartesianFrame3D: \"world\" (id = 5), H-representation\n",
       "begin\n",
       " 1 4 real\n",
       " -0.0 0.0 0.0 1.0\n",
       "end)])))"
      ]
     },
     "execution_count": 4,
     "metadata": {},
     "output_type": "execute_result"
    }
   ],
   "source": [
    "urdf_mech = parse_urdf(Float64, \"box.urdf\")\n",
    "mechanism, base = planar_revolute_base()\n",
    "attach!(mechanism, base, urdf_mech)\n",
    "world = root_body(mechanism)\n",
    "\n",
    "basevis = Visualizer()[:boxval]\n",
    "delete!(basevis)\n",
    "vis = basevis[:robot]\n",
    "setgeometry!(vis, mechanism, parse_urdf(\"box_valkyrie.urdf\", mechanism))\n",
    "\n",
    "floor = planar_obstacle(default_frame(world), [0, 0, 1.], [0, 0, 0.])\n",
    "free_space = space_between([floor])\n",
    "\n",
    "addgeometry!(basevis[:environment], floor)\n",
    "\n",
    "core = findbody(mechanism, \"core\")\n",
    "\n",
    "env = Environment(\n",
    "    Dict(core => ContactEnvironment(\n",
    "                [\n",
    "                Point3D(default_frame(core), SVector(0.1, 0, 0.2)),\n",
    "                Point3D(default_frame(core), SVector(-0.1, 0, 0.2)),\n",
    "                Point3D(default_frame(core), SVector(0.1, 0, -0.2)),\n",
    "                Point3D(default_frame(core), SVector(-0.1, 0, -0.2)),\n",
    "                 ],\n",
    "                [floor],\n",
    "                [free_space])))"
   ]
  },
  {
   "cell_type": "code",
   "execution_count": 7,
   "metadata": {},
   "outputs": [],
   "source": [
    "x0 = MechanismState{Float64}(mechanism)\n",
    "set_velocity!(x0, zeros(num_velocities(x0)))\n",
    "set_configuration!(x0, findjoint(mechanism, \"base_x\"), [-1])\n",
    "set_configuration!(x0, findjoint(mechanism, \"base_z\"), [0.3])\n",
    "set_configuration!(x0, findjoint(mechanism, \"base_rotation\"), [0.3])\n",
    "set_velocity!(x0, findjoint(mechanism, \"base_x\"), [3])\n",
    "\n",
    "settransform!(vis, x0)\n",
    "\n",
    "controller = x -> begin\n",
    "    zeros(num_velocities(x))\n",
    "end\n",
    "\n",
    "Δt = 0.05\n",
    "\n",
    "results = MechanismComplementarity.simulate(x0, controller, env, Δt, 100, GurobiSolver(OutputFlag=0));"
   ]
  },
  {
   "cell_type": "code",
   "execution_count": 8,
   "metadata": {
    "collapsed": true
   },
   "outputs": [],
   "source": [
    "for r in results\n",
    "    set_configuration!(x0, configuration(r.state))\n",
    "    set_velocity!(x0, velocity(r.state))\n",
    "    settransform!(vis, x0)\n",
    "    sleep(Δt)\n",
    "end"
   ]
  },
  {
   "cell_type": "code",
   "execution_count": null,
   "metadata": {
    "collapsed": true
   },
   "outputs": [],
   "source": []
  }
 ],
 "metadata": {
  "kernelspec": {
   "display_name": "Julia 0.6.0",
   "language": "julia",
   "name": "julia-0.6"
  },
  "language_info": {
   "file_extension": ".jl",
   "mimetype": "application/julia",
   "name": "julia",
   "version": "0.6.0"
  }
 },
 "nbformat": 4,
 "nbformat_minor": 2
}
