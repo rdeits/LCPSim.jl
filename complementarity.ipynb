{
 "cells": [
  {
   "cell_type": "code",
   "execution_count": null,
   "metadata": {
    "collapsed": true
   },
   "outputs": [],
   "source": [
    "using Polyhedra\n",
    "using DrakeVisualizer\n",
    "DrakeVisualizer.any_open_windows() || DrakeVisualizer.new_window()\n",
    "using RigidBodyDynamics\n",
    "using StaticArrays\n",
    "using RigidBodyTreeInspector"
   ]
  },
  {
   "cell_type": "code",
   "execution_count": null,
   "metadata": {
    "collapsed": true
   },
   "outputs": [],
   "source": [
    "import MechanismComplementarity"
   ]
  },
  {
   "cell_type": "code",
   "execution_count": null,
   "metadata": {},
   "outputs": [],
   "source": [
    "using Plots; gr()"
   ]
  },
  {
   "cell_type": "code",
   "execution_count": null,
   "metadata": {
    "collapsed": true
   },
   "outputs": [],
   "source": [
    "using JuMP, Gurobi"
   ]
  },
  {
   "cell_type": "code",
   "execution_count": null,
   "metadata": {},
   "outputs": [],
   "source": [
    "reload(\"MechanismComplementarity\")\n",
    "mc = MechanismComplementarity"
   ]
  },
  {
   "cell_type": "code",
   "execution_count": null,
   "metadata": {},
   "outputs": [],
   "source": [
    "g = -9.81\n",
    "world = RigidBody{Float64}(\"world\")\n",
    "hopper = Mechanism(world; gravity=SVector(0, 0, g))\n",
    "\n",
    "frame = CartesianFrame3D(\"core\")\n",
    "mass = 1.\n",
    "inertia = SpatialInertia(frame, 0.01 * eye(SMatrix{3, 3}), SVector(0., 0, 0), mass)\n",
    "core = RigidBody(inertia)\n",
    "\n",
    "floating_base = Joint(\"core_to_world\", QuaternionFloating{Float64}())\n",
    "attach!(hopper, world, floating_base, eye(Transform3D, frame_before(floating_base), default_frame(world)), core)\n",
    "\n",
    "frame = CartesianFrame3D(\"foot\")\n",
    "mass = 1.\n",
    "inertia = SpatialInertia(frame, 0.01 * eye(SMatrix{3, 3}), SVector(0., 0, 0), mass)\n",
    "foot = RigidBody(inertia)\n",
    "leg = Joint(\"leg\", Prismatic(SVector(0, 0, -1.)))\n",
    "attach!(hopper, core, leg, eye(Transform3D, frame_before(leg), default_frame(core)), foot)\n",
    "\n",
    "foot_contact = Point3D(default_frame(foot), SVector(0., 0, -0.1))"
   ]
  },
  {
   "cell_type": "code",
   "execution_count": null,
   "metadata": {
    "collapsed": true
   },
   "outputs": [],
   "source": [
    "vis = Visualizer()[:hopper]\n",
    "\n",
    "setgeometry!(vis, hopper, Dict(\n",
    "        default_frame(core) => [HyperSphere(Point(0., 0, 0), 0.15)],\n",
    "        default_frame(foot) => [HyperSphere(Point(0., 0, 0), 0.1)]\n",
    "    ))"
   ]
  },
  {
   "cell_type": "code",
   "execution_count": null,
   "metadata": {},
   "outputs": [],
   "source": [
    "env = mc.Environment(\n",
    "    Dict(foot => mc.ContactEnvironment(\n",
    "            [foot_contact],\n",
    "            [\n",
    "                mc.Obstacle(\n",
    "                    default_frame(world),\n",
    "                    SimpleHRepresentation{3, Float64}([0 0 1], [0]),\n",
    "                    HalfSpace{3, Float64}([0, 0, 1], 0),\n",
    "                    0.5\n",
    "                ),\n",
    "            ],\n",
    "            [\n",
    "                mc.FreeRegion(\n",
    "                    default_frame(world),\n",
    "                    SimpleHRepresentation{3, Float64}(\n",
    "                        [0 0 -1],\n",
    "                        [0])\n",
    "                )\n",
    "            ])\n",
    "        )\n",
    ")\n",
    "\n",
    "limits = Dict(\n",
    "    leg => SimpleHRepresentation{1, Float64}([1 -1]', [1.05, -0.5])\n",
    ")"
   ]
  },
  {
   "cell_type": "code",
   "execution_count": null,
   "metadata": {
    "collapsed": true
   },
   "outputs": [],
   "source": [
    "x0 = MechanismState(hopper, [0., 0, 0, 1, 0, 0, 1.5, 1.0], zeros(num_velocities(hopper)))\n",
    "\n",
    "controller = (x) -> begin\n",
    "    kp = 50\n",
    "    kd = 0.1 * kp\n",
    "    u = zeros(num_velocities(x))\n",
    "    u[end] = kp * (1 - configuration(x)[end]) - kd * velocity(x)[end]\n",
    "    u\n",
    "end\n",
    "\n",
    "Δt = 0.05\n",
    "results = mc.simulate(x0, controller, limits, env, Δt, 20, GurobiSolver(OutputFlag=0));"
   ]
  },
  {
   "cell_type": "code",
   "execution_count": null,
   "metadata": {
    "collapsed": true
   },
   "outputs": [],
   "source": [
    "for r in results\n",
    "    settransform!(vis, r.state)\n",
    "    sleep(Δt)\n",
    "end"
   ]
  },
  {
   "cell_type": "code",
   "execution_count": null,
   "metadata": {},
   "outputs": [],
   "source": [
    "plot([configuration(r.state, leg)[1] for r in results])"
   ]
  },
  {
   "cell_type": "code",
   "execution_count": null,
   "metadata": {},
   "outputs": [],
   "source": [
    "Δt = 0.05\n",
    "x0 = MechanismState(hopper, [0., 0, 0, 1, 0, 0, 1.0, 1.0], zeros(num_velocities(hopper)))\n",
    "input_limits = Dict(leg=>[-25, 25])\n",
    "\n",
    "model, results_opt = mc.optimize(x0, input_limits, limits, env, Δt, 20, Model(solver=GurobiSolver()))\n",
    "@objective model Max configuration(results_opt[end].state, floating_base)[end]\n",
    "for i in 1:length(results_opt)\n",
    "    @constraint(model, results_opt[i].state.q[1:6] .== [0, 0, 0, 1, 0, 0])\n",
    "end\n",
    "solve(model)\n",
    "results_opt = getvalue.(results_opt);"
   ]
  },
  {
   "cell_type": "code",
   "execution_count": null,
   "metadata": {
    "collapsed": true
   },
   "outputs": [],
   "source": [
    "for r in results_opt\n",
    "    settransform!(vis, r.state)\n",
    "    sleep(Δt)\n",
    "end"
   ]
  },
  {
   "cell_type": "code",
   "execution_count": null,
   "metadata": {},
   "outputs": [],
   "source": [
    "plot([configuration(r.state, leg)[1] for r in results_opt])"
   ]
  }
 ],
 "metadata": {
  "kernelspec": {
   "display_name": "Julia 0.6.0",
   "language": "julia",
   "name": "julia-0.6"
  },
  "language_info": {
   "file_extension": ".jl",
   "mimetype": "application/julia",
   "name": "julia",
   "version": "0.6.0"
  }
 },
 "nbformat": 4,
 "nbformat_minor": 2
}
